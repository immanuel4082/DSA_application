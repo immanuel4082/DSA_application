{
 "cells": [
  {
   "attachments": {},
   "cell_type": "markdown",
   "metadata": {},
   "source": [
    "DSA 2023 Summer School Admittance Check"
   ]
  },
  {
   "attachments": {},
   "cell_type": "markdown",
   "metadata": {},
   "source": [
    "Immanuel Mbugua Kimani \n",
    "ikimani@kabarak.ac.ke"
   ]
  },
  {
   "attachments": {},
   "cell_type": "markdown",
   "metadata": {},
   "source": [
    "Question 1: Write a Python function to return a tuple of primes and non primes given an integer input"
   ]
  },
  {
   "cell_type": "code",
   "execution_count": 156,
   "metadata": {},
   "outputs": [
    {
     "name": "stdout",
     "output_type": "stream",
     "text": [
      "Following are the prime and non prime numbers smaller than or equal to 30\n",
      "((2, 3, 5, 7, 11, 13, 17, 19, 23, 29), (4, 6, 8, 9, 10, 12, 14, 15, 16, 18, 20, 21, 22, 24, 25, 26, 27, 28, 30))\n"
     ]
    }
   ],
   "source": [
    "def sieve(num):\n",
    "    primes = []\n",
    "    non_primes = []\n",
    "    for n in range(2, num+1):\n",
    "        is_prime = True\n",
    "        for i in range(2, int(n**0.5)+1):\n",
    "            if n % i == 0:\n",
    "                is_prime = False\n",
    "                non_primes.append(n)\n",
    "                break\n",
    "        if is_prime:\n",
    "            primes.append(n)\n",
    "    return (tuple(primes), tuple(non_primes))\n",
    "\n",
    "num = 30\n",
    "print(\"Following are the prime and non prime numbers smaller than or equal to\", num)\n",
    "print(sieve(num))"
   ]
  },
  {
   "attachments": {},
   "cell_type": "markdown",
   "metadata": {},
   "source": [
    "Question 2: Create a dictionary to store the type and number of unique characters in the paragraph provided"
   ]
  },
  {
   "cell_type": "code",
   "execution_count": 157,
   "metadata": {},
   "outputs": [
    {
     "name": "stdout",
     "output_type": "stream",
     "text": [
      "defaultdict(<class 'int'>, {'T': 3, 'h': 17, 'e': 89, ' ': 192, 'f': 26, 'o': 68, 'l': 35, 'w': 16, 'i': 60, 'n': 42, 'g': 14, 's': 57, 'a': 48, 'm': 20, 'p': 11, 't': 65, 'x': 3, 'I': 1, 'u': 26, 'd': 27, 'r': 45, 'c': 31, 'k': 9, 'y': 19, 'b': 11, '.': 12, ':': 2, '1': 11, '2': 10, '3': 13, '4': 5, '5': 3, '6': 3, '7': 10, '8': 3, '9': 2, 'S': 2, 'V': 1, '’': 3, '0': 22, ',': 7, '(': 3, ')': 3, 'q': 3, 'A': 2, 'v': 4, 'F': 1, '-': 4, '{': 2, '}': 2, 'O': 3, '[': 1, ']': 1, 'W': 1, '<': 1, 'N': 1, '>': 1, '`': 2, '*': 4, '^': 4, '“': 1, '”': 1, '‘': 1, 'E': 1, '/': 1, '\\\\': 1})\n"
     ]
    }
   ],
   "source": [
    "from collections import defaultdict\n",
    "\n",
    "def count_chars(paragraph):\n",
    "    freq = defaultdict(int)\n",
    "    for char in paragraph:\n",
    "        freq[char] += 1\n",
    "    return freq\n",
    "\n",
    "paragraph = \"The following is sample text I used to practice special characters using keybr.com: 112233445566778899 Saturn V rocket’s first stage carries 203,400 gallons (770,000 liters) of kerosene fuel and 318,000 gallons (1.2 million liters) of liquid oxygen needed for combustion. At liftoff, the stage’s five F-1 rocket engines ignite and produce 7.5 million pounds of thrust. To replace those goofy quantities with the far less retarded metric system (even though liters are considered part of the metric system they are the same as cubic deci-meters) you would say 770 cubic meters of kerosene {abbreviated as m3} and 1,204 m3 of liquid O2 [O2 is the symbol for oxygen]. We would also say it produced 33,600,000 newtons of force <abbreviated as N>. To add scientific notation {a way of writing numbers that allows you to write only as many digits `of specificity` as you would like} you can write 7.7 * 10 ^ 2 m3 of kerosene 1.204 * 10 ^ 3 m3 of O2 and 3.3 * 10 ^ 7 newtons. Another way to write scientific notation is to replace the “* 10 ^” with ‘E’ -/capital e\\-. So our numbers would look like:s\"\n",
    "\n",
    "freq = count_chars(paragraph)\n",
    "print(freq)"
   ]
  },
  {
   "attachments": {},
   "cell_type": "markdown",
   "metadata": {},
   "source": [
    "Question 3: Extract the values from the dictionary above into a list"
   ]
  },
  {
   "cell_type": "code",
   "execution_count": 158,
   "metadata": {},
   "outputs": [
    {
     "name": "stdout",
     "output_type": "stream",
     "text": [
      "[3, 17, 89, 192, 26, 68, 35, 16, 60, 42, 14, 57, 48, 20, 11, 65, 3, 1, 26, 27, 45, 31, 9, 19, 11, 12, 2, 11, 10, 13, 5, 3, 3, 10, 3, 2, 2, 1, 3, 22, 7, 3, 3, 3, 2, 4, 1, 4, 2, 2, 3, 1, 1, 1, 1, 1, 1, 2, 4, 4, 1, 1, 1, 1, 1, 1]\n"
     ]
    }
   ],
   "source": [
    "freq = count_chars(paragraph)\n",
    "values_list = list(freq.values())\n",
    "print(values_list)"
   ]
  },
  {
   "attachments": {},
   "cell_type": "markdown",
   "metadata": {},
   "source": [
    "Question 4: Extract the keys from the dictionary above into a list"
   ]
  },
  {
   "cell_type": "code",
   "execution_count": 159,
   "metadata": {},
   "outputs": [
    {
     "name": "stdout",
     "output_type": "stream",
     "text": [
      "['T', 'h', 'e', ' ', 'f', 'o', 'l', 'w', 'i', 'n', 'g', 's', 'a', 'm', 'p', 't', 'x', 'I', 'u', 'd', 'r', 'c', 'k', 'y', 'b', '.', ':', '1', '2', '3', '4', '5', '6', '7', '8', '9', 'S', 'V', '’', '0', ',', '(', ')', 'q', 'A', 'v', 'F', '-', '{', '}', 'O', '[', ']', 'W', '<', 'N', '>', '`', '*', '^', '“', '”', '‘', 'E', '/', '\\\\']\n"
     ]
    }
   ],
   "source": [
    "freq = count_chars(paragraph)\n",
    "keys_list = list(freq.keys())\n",
    "print(keys_list)"
   ]
  },
  {
   "attachments": {},
   "cell_type": "markdown",
   "metadata": {},
   "source": [
    "Question 5: Merge the two lists into a tuple"
   ]
  },
  {
   "cell_type": "code",
   "execution_count": 160,
   "metadata": {},
   "outputs": [
    {
     "name": "stdout",
     "output_type": "stream",
     "text": [
      "[('T', 3), ('h', 17), ('e', 89), (' ', 192), ('f', 26), ('o', 68), ('l', 35), ('w', 16), ('i', 60), ('n', 42), ('g', 14), ('s', 57), ('a', 48), ('m', 20), ('p', 11), ('t', 65), ('x', 3), ('I', 1), ('u', 26), ('d', 27), ('r', 45), ('c', 31), ('k', 9), ('y', 19), ('b', 11), ('.', 12), (':', 2), ('1', 11), ('2', 10), ('3', 13), ('4', 5), ('5', 3), ('6', 3), ('7', 10), ('8', 3), ('9', 2), ('S', 2), ('V', 1), ('’', 3), ('0', 22), (',', 7), ('(', 3), (')', 3), ('q', 3), ('A', 2), ('v', 4), ('F', 1), ('-', 4), ('{', 2), ('}', 2), ('O', 3), ('[', 1), (']', 1), ('W', 1), ('<', 1), ('N', 1), ('>', 1), ('`', 2), ('*', 4), ('^', 4), ('“', 1), ('”', 1), ('‘', 1), ('E', 1), ('/', 1), ('\\\\', 1)]\n"
     ]
    }
   ],
   "source": [
    "freq = count_chars(paragraph)\n",
    "items_list = list(freq.items())\n",
    "print(items_list)"
   ]
  },
  {
   "attachments": {},
   "cell_type": "markdown",
   "metadata": {},
   "source": [
    "Question 6: Write a function greatest_common_divisor that takes two inputs a and b and returns the greatest common divisor of the two numbers. E.g. input (10, 15) would return 5"
   ]
  },
  {
   "cell_type": "code",
   "execution_count": 161,
   "metadata": {},
   "outputs": [
    {
     "name": "stdout",
     "output_type": "stream",
     "text": [
      "1\n",
      "2\n",
      "24\n"
     ]
    }
   ],
   "source": [
    "def greatest_common_divisor(a, b):\n",
    "\n",
    "    if a == 0:\n",
    "        return b\n",
    "    elif b == 0:\n",
    "        return a\n",
    "\n",
    "    p = 0\n",
    "    while ((a | b) & 1) == 0:\n",
    "        a >>= 1\n",
    "        b >>= 1\n",
    "        p += 1\n",
    "    \n",
    "    while (a & 1) == 0:\n",
    "        a >>= 1\n",
    "    \n",
    "    while b != 0:\n",
    "        while (b & 1) == 0:\n",
    "            b >>= 1\n",
    "        if a > b:\n",
    "            a, b = b, a\n",
    "        b -= a\n",
    "    \n",
    "    return a << p\n",
    "\n",
    "print(greatest_common_divisor(12, 17))\n",
    "print(greatest_common_divisor(4, 6))\n",
    "print(greatest_common_divisor(336, 360))\n"
   ]
  },
  {
   "attachments": {},
   "cell_type": "markdown",
   "metadata": {},
   "source": [
    "Question 7: Write a function get_nearest_farthest that takes in a point of interest (pt) and a list of points and returns the nearest point and the farthest point from the point of intest."
   ]
  },
  {
   "cell_type": "code",
   "execution_count": 162,
   "metadata": {},
   "outputs": [
    {
     "name": "stdout",
     "output_type": "stream",
     "text": [
      "((7, 6), (9, 3))\n",
      "((9, 1), (10, 12))\n"
     ]
    }
   ],
   "source": [
    "import math\n",
    "\n",
    "def get_nearest_farthest(pt, points):\n",
    "\n",
    "    sorted_points = sorted(points, key=lambda p: math.sqrt((p[0]-pt[0])**2 + (p[1]-pt[1])**2))\n",
    "    return sorted_points[0], sorted_points[-1]\n",
    "\n",
    "print(get_nearest_farthest((3, 8), [(9, 3), (8,5), (7,6)]))\n",
    "print(get_nearest_farthest((12,2), [(5,9), (9,1), (2,4), (13,9), (10,12)]))"
   ]
  },
  {
   "attachments": {},
   "cell_type": "markdown",
   "metadata": {},
   "source": [
    "Question 8: Write a function perfectly_divisible to return a list of numbers between 0 and a number  N  that are perfectly divisible by  q  (with out leaving a remainder).\n",
    "Hint:  N  should also be inclusive in the numbers being considered. If N is negative use N == 20"
   ]
  },
  {
   "cell_type": "code",
   "execution_count": 163,
   "metadata": {},
   "outputs": [
    {
     "name": "stdout",
     "output_type": "stream",
     "text": [
      "[0, 2, 4, 6, 8, 10]\n"
     ]
    }
   ],
   "source": [
    "def perfectly_divisible(N, q):\n",
    "\n",
    "#Returns a list of numbers between 0 and N that are perfectly divisible by q.\n",
    "    divisible_numbers = list(range(0, N+1, q))\n",
    "    return divisible_numbers\n",
    "\n",
    "print(perfectly_divisible(10,2))"
   ]
  },
  {
   "attachments": {},
   "cell_type": "markdown",
   "metadata": {},
   "source": [
    "Question 9: Write a function flatten_lists that takes in a list of lists and outputs a sorted list of elements of sublists of the input list (confusing right?)\n",
    "Example: given flatten_lists([[2,13,44], [6,7]]) it should return [2,6,7,13,44]"
   ]
  },
  {
   "cell_type": "code",
   "execution_count": 164,
   "metadata": {},
   "outputs": [
    {
     "name": "stdout",
     "output_type": "stream",
     "text": [
      "[2, 6, 7, 13, 44]\n",
      "[1, 2, 3, 4, 4, 5, 5, 6, 8, 9]\n"
     ]
    }
   ],
   "source": [
    "def flatten_lists(lists):\n",
    "\n",
    "    #Returns a sorted list of elements of sublists of the input list.\n",
    "\n",
    "    flat_list = []\n",
    "    for sublist in lists:\n",
    "        for element in sublist:\n",
    "            flat_list.append(element)\n",
    "    return sorted(flat_list)\n",
    "\n",
    "\n",
    "print(flatten_lists([[2,13,44], [6,7]]))\n",
    "print(flatten_lists([[3,2,1,5], [8,9], [5,4,4,6]]))"
   ]
  },
  {
   "attachments": {},
   "cell_type": "markdown",
   "metadata": {},
   "source": [
    "The Extra Mile!\n",
    "\n",
    "Download the dataset \"Nakuru Sensor Data for February 2023 from https://open.africa/dataset/sensorsafrica-airquality-archive-nakuru/resource/14165682-37dd-4f40-914e-eb24619e4ef8\"\n",
    "\n",
    "Load the 'timestamp','value_type' and 'value' collumns into a pandas dataframe"
   ]
  },
  {
   "cell_type": "code",
   "execution_count": 165,
   "metadata": {},
   "outputs": [],
   "source": [
    "import pandas as pd"
   ]
  },
  {
   "attachments": {},
   "cell_type": "markdown",
   "metadata": {},
   "source": [
    "load the nakuru dataset into a pandas data frame"
   ]
  },
  {
   "cell_type": "code",
   "execution_count": 166,
   "metadata": {},
   "outputs": [
    {
     "name": "stdout",
     "output_type": "stream",
     "text": [
      "  sensor_id;sensor_type;location;lat;lon;timestamp;value_type;value\n",
      "0  145;DHT22;3528;-0.286;36.067;2023-02-04T04:22:...               \n"
     ]
    }
   ],
   "source": [
    "df = pd.read_csv('february_2023_sensor.csv')\n",
    "print(df.head(n=1))"
   ]
  },
  {
   "attachments": {},
   "cell_type": "markdown",
   "metadata": {},
   "source": [
    "view the columns "
   ]
  },
  {
   "cell_type": "code",
   "execution_count": 167,
   "metadata": {},
   "outputs": [
    {
     "name": "stdout",
     "output_type": "stream",
     "text": [
      "Index(['sensor_id;sensor_type;location;lat;lon;timestamp;value_type;value'], dtype='object')\n"
     ]
    }
   ],
   "source": [
    "print(df.columns)\n"
   ]
  },
  {
   "cell_type": "code",
   "execution_count": 168,
   "metadata": {},
   "outputs": [
    {
     "name": "stdout",
     "output_type": "stream",
     "text": [
      "['sensor_id;sensor_type;location;lat;lon;timestamp;value_type;value']\n"
     ]
    }
   ],
   "source": [
    "print(df.columns.tolist())\n"
   ]
  },
  {
   "attachments": {},
   "cell_type": "markdown",
   "metadata": {},
   "source": [
    "split the column into different columns"
   ]
  },
  {
   "cell_type": "code",
   "execution_count": 169,
   "metadata": {},
   "outputs": [],
   "source": [
    "column_split = df['sensor_id;sensor_type;location;lat;lon;timestamp;value_type;value'].str.split(pat=';',expand=True)\n",
    "column_split.columns = ['sensor_id','sensor_type','location','lat','lon','timestamp','value_type','value']"
   ]
  },
  {
   "cell_type": "code",
   "execution_count": 170,
   "metadata": {},
   "outputs": [],
   "source": [
    "df=pd.concat([df,column_split],axis=1)"
   ]
  },
  {
   "cell_type": "code",
   "execution_count": 171,
   "metadata": {},
   "outputs": [],
   "source": [
    "df = df.drop('sensor_id;sensor_type;location;lat;lon;timestamp;value_type;value',axis=1)"
   ]
  },
  {
   "cell_type": "code",
   "execution_count": 172,
   "metadata": {},
   "outputs": [
    {
     "data": {
      "text/plain": [
       "Index(['sensor_id', 'sensor_type', 'location', 'lat', 'lon', 'timestamp',\n",
       "       'value_type', 'value'],\n",
       "      dtype='object')"
      ]
     },
     "execution_count": 172,
     "metadata": {},
     "output_type": "execute_result"
    }
   ],
   "source": [
    "df.columns"
   ]
  },
  {
   "cell_type": "code",
   "execution_count": 173,
   "metadata": {},
   "outputs": [
    {
     "name": "stdout",
     "output_type": "stream",
     "text": [
      "  sensor_id sensor_type location     lat     lon  \\\n",
      "0       145       DHT22     3528  -0.286  36.067   \n",
      "1       145       DHT22     3528  -0.286  36.067   \n",
      "2       144      SDS011     3528  -0.286  36.067   \n",
      "3       144      SDS011     3528  -0.286  36.067   \n",
      "4       145       DHT22     3528  -0.286  36.067   \n",
      "\n",
      "                          timestamp   value_type value  \n",
      "0  2023-02-04T04:22:51.323124+00:00     humidity   100  \n",
      "1  2023-02-04T04:22:51.323124+00:00  temperature    12  \n",
      "2  2023-02-04T04:22:51.323125+00:00           P2    27  \n",
      "3  2023-02-04T04:22:51.323125+00:00           P1    59  \n",
      "4  2023-02-04T04:25:32.354784+00:00     humidity   100  \n"
     ]
    }
   ],
   "source": [
    "print(df.head())"
   ]
  },
  {
   "attachments": {},
   "cell_type": "markdown",
   "metadata": {},
   "source": [
    "Question E1: Create a new collumn 'timestamp_new' from 'timestamp' rounded off to the second"
   ]
  },
  {
   "cell_type": "code",
   "execution_count": 174,
   "metadata": {},
   "outputs": [
    {
     "name": "stdout",
     "output_type": "stream",
     "text": [
      "      sensor_id sensor_type location     lat     lon  \\\n",
      "0           145       DHT22     3528  -0.286  36.067   \n",
      "1           145       DHT22     3528  -0.286  36.067   \n",
      "2           144      SDS011     3528  -0.286  36.067   \n",
      "3           144      SDS011     3528  -0.286  36.067   \n",
      "4           145       DHT22     3528  -0.286  36.067   \n",
      "...         ...         ...      ...     ...     ...   \n",
      "42985       145       DHT22     3528  -0.286  36.067   \n",
      "42986       145       DHT22     3528  -0.286  36.067   \n",
      "42987       145       DHT22     3528  -0.286  36.067   \n",
      "42988       144      SDS011     3528  -0.286  36.067   \n",
      "42989       144      SDS011     3528  -0.286  36.067   \n",
      "\n",
      "                             timestamp   value_type value  \\\n",
      "0     2023-02-04 04:22:51.323124+00:00     humidity   100   \n",
      "1     2023-02-04 04:22:51.323124+00:00  temperature    12   \n",
      "2     2023-02-04 04:22:51.323125+00:00           P2    27   \n",
      "3     2023-02-04 04:22:51.323125+00:00           P1    59   \n",
      "4     2023-02-04 04:25:32.354784+00:00     humidity   100   \n",
      "...                                ...          ...   ...   \n",
      "42985 2023-02-24 07:51:55.687329+00:00  temperature    27   \n",
      "42986 2023-02-24 07:54:35.530536+00:00     humidity    59   \n",
      "42987 2023-02-24 07:54:35.530536+00:00  temperature    27   \n",
      "42988 2023-02-24 07:54:35.530545+00:00           P2     0   \n",
      "42989 2023-02-24 07:54:35.530545+00:00           P1     0   \n",
      "\n",
      "                  timestamp_new  \n",
      "0     2023-02-04 04:22:51+00:00  \n",
      "1     2023-02-04 04:22:51+00:00  \n",
      "2     2023-02-04 04:22:51+00:00  \n",
      "3     2023-02-04 04:22:51+00:00  \n",
      "4     2023-02-04 04:25:32+00:00  \n",
      "...                         ...  \n",
      "42985 2023-02-24 07:51:55+00:00  \n",
      "42986 2023-02-24 07:54:35+00:00  \n",
      "42987 2023-02-24 07:54:35+00:00  \n",
      "42988 2023-02-24 07:54:35+00:00  \n",
      "42989 2023-02-24 07:54:35+00:00  \n",
      "\n",
      "[42990 rows x 9 columns]\n"
     ]
    }
   ],
   "source": [
    "df['timestamp'] = pd.to_datetime(df['timestamp'], infer_datetime_format=True)\n",
    "df['timestamp_new'] = df['timestamp'].dt.floor('S')\n",
    "\n",
    "print(df)"
   ]
  },
  {
   "cell_type": "code",
   "execution_count": 175,
   "metadata": {},
   "outputs": [],
   "source": [
    "df.to_csv('mydata.csv', index=False)"
   ]
  },
  {
   "cell_type": "markdown",
   "metadata": {},
   "source": [
    "Question E2: Split the dataframe based on the 'value_type' collumn"
   ]
  },
  {
   "cell_type": "code",
   "execution_count": 176,
   "metadata": {},
   "outputs": [
    {
     "name": "stdout",
     "output_type": "stream",
     "text": [
      "   sensor_id sensor_type location     lat     lon  \\\n",
      "1        145       DHT22     3528  -0.286  36.067   \n",
      "5        145       DHT22     3528  -0.286  36.067   \n",
      "11       145       DHT22     3528  -0.286  36.067   \n",
      "13       145       DHT22     3528  -0.286  36.067   \n",
      "17       145       DHT22     3528  -0.286  36.067   \n",
      "\n",
      "                          timestamp   value_type value  \\\n",
      "1  2023-02-04 04:22:51.323124+00:00  temperature    12   \n",
      "5  2023-02-04 04:25:32.354784+00:00  temperature    11   \n",
      "11 2023-02-04 04:28:12.716734+00:00  temperature    12   \n",
      "13 2023-02-04 04:30:52.437513+00:00  temperature    12   \n",
      "17 2023-02-04 04:33:32.677578+00:00  temperature    12   \n",
      "\n",
      "               timestamp_new  \n",
      "1  2023-02-04 04:22:51+00:00  \n",
      "5  2023-02-04 04:25:32+00:00  \n",
      "11 2023-02-04 04:28:12+00:00  \n",
      "13 2023-02-04 04:30:52+00:00  \n",
      "17 2023-02-04 04:33:32+00:00  \n"
     ]
    }
   ],
   "source": [
    "grouped = df.groupby(df.value_type) \n",
    "df_temperature = grouped.get_group(\"temperature\") \n",
    "df_humidity = grouped.get_group(\"humidity\") \n",
    "df_P1 = grouped.get_group(\"P1\") \n",
    "df_P2 = grouped.get_group(\"P2\") \n",
    "print(df_temperature.head())"
   ]
  },
  {
   "attachments": {},
   "cell_type": "markdown",
   "metadata": {},
   "source": [
    "Question E3: Find the mean, mode and median of the humidity, temperature, P1 and P2 values"
   ]
  },
  {
   "cell_type": "code",
   "execution_count": 177,
   "metadata": {},
   "outputs": [
    {
     "name": "stdout",
     "output_type": "stream",
     "text": [
      "22.0\n",
      "14\n",
      "22.35287548855388\n"
     ]
    },
    {
     "name": "stderr",
     "output_type": "stream",
     "text": [
      "C:\\Users\\HP\\AppData\\Local\\Temp\\ipykernel_6388\\1716649491.py:2: SettingWithCopyWarning: \n",
      "A value is trying to be set on a copy of a slice from a DataFrame.\n",
      "Try using .loc[row_indexer,col_indexer] = value instead\n",
      "\n",
      "See the caveats in the documentation: https://pandas.pydata.org/pandas-docs/stable/user_guide/indexing.html#returning-a-view-versus-a-copy\n",
      "  df_temperature['value'] = pd.to_numeric(df_temperature['value'])\n"
     ]
    }
   ],
   "source": [
    "# convert value column to numeric data type\n",
    "df_temperature['value'] = pd.to_numeric(df_temperature['value'])\n",
    "\n",
    "# compute median of value column\n",
    "median_temp = df_temperature['value'].median()\n",
    "mode_temp = df_temperature['value'].mode()[0]\n",
    "mean_temp = df_temperature['value'].mean()\n",
    "print(median_temp)\n",
    "print(mode_temp)\n",
    "print(mean_temp)"
   ]
  },
  {
   "cell_type": "code",
   "execution_count": 178,
   "metadata": {},
   "outputs": [
    {
     "name": "stdout",
     "output_type": "stream",
     "text": [
      "61.0\n",
      "100\n",
      "64.31109249953471\n"
     ]
    },
    {
     "name": "stderr",
     "output_type": "stream",
     "text": [
      "C:\\Users\\HP\\AppData\\Local\\Temp\\ipykernel_6388\\4102013903.py:2: SettingWithCopyWarning: \n",
      "A value is trying to be set on a copy of a slice from a DataFrame.\n",
      "Try using .loc[row_indexer,col_indexer] = value instead\n",
      "\n",
      "See the caveats in the documentation: https://pandas.pydata.org/pandas-docs/stable/user_guide/indexing.html#returning-a-view-versus-a-copy\n",
      "  df_humidity['value'] = pd.to_numeric(df_humidity['value'])\n"
     ]
    }
   ],
   "source": [
    "# convert value column to numeric data type\n",
    "df_humidity['value'] = pd.to_numeric(df_humidity['value'])\n",
    "\n",
    "# compute median of value column\n",
    "median_humidity = df_humidity['value'].median()\n",
    "mode_humidity = df_humidity['value'].mode()[0]\n",
    "mean_humidity = df_humidity['value'].mean()\n",
    "print(median_humidity)\n",
    "print(mode_humidity)\n",
    "print(mean_humidity)"
   ]
  },
  {
   "cell_type": "code",
   "execution_count": 179,
   "metadata": {},
   "outputs": [
    {
     "name": "stdout",
     "output_type": "stream",
     "text": [
      "20.0\n",
      "0\n",
      "28.508605451669922\n"
     ]
    },
    {
     "name": "stderr",
     "output_type": "stream",
     "text": [
      "C:\\Users\\HP\\AppData\\Local\\Temp\\ipykernel_6388\\2705550663.py:2: SettingWithCopyWarning: \n",
      "A value is trying to be set on a copy of a slice from a DataFrame.\n",
      "Try using .loc[row_indexer,col_indexer] = value instead\n",
      "\n",
      "See the caveats in the documentation: https://pandas.pydata.org/pandas-docs/stable/user_guide/indexing.html#returning-a-view-versus-a-copy\n",
      "  df_P1['value'] = pd.to_numeric(df_P1['value'])\n"
     ]
    }
   ],
   "source": [
    "# convert value column to numeric data type\n",
    "df_P1['value'] = pd.to_numeric(df_P1['value'])\n",
    "\n",
    "# compute median of value column\n",
    "median_P1 = df_P1['value'].median()\n",
    "mode_P1 = df_P1['value'].mode()[0]\n",
    "mean_P1 = df_P1['value'].mean()\n",
    "print(median_P1)\n",
    "print(mode_P1)\n",
    "print(mean_P1)"
   ]
  },
  {
   "cell_type": "code",
   "execution_count": 180,
   "metadata": {},
   "outputs": [
    {
     "name": "stderr",
     "output_type": "stream",
     "text": [
      "C:\\Users\\HP\\AppData\\Local\\Temp\\ipykernel_6388\\2827242211.py:2: SettingWithCopyWarning: \n",
      "A value is trying to be set on a copy of a slice from a DataFrame.\n",
      "Try using .loc[row_indexer,col_indexer] = value instead\n",
      "\n",
      "See the caveats in the documentation: https://pandas.pydata.org/pandas-docs/stable/user_guide/indexing.html#returning-a-view-versus-a-copy\n",
      "  df_P2['value'] = pd.to_numeric(df_P2['value'])\n"
     ]
    },
    {
     "name": "stdout",
     "output_type": "stream",
     "text": [
      "8.0\n",
      "0\n",
      "11.30142338822216\n"
     ]
    }
   ],
   "source": [
    "# convert value column to numeric data type\n",
    "df_P2['value'] = pd.to_numeric(df_P2['value'])\n",
    "\n",
    "# compute median of value column\n",
    "median_P2 = df_P2['value'].median()\n",
    "mode_P2 = df_P2['value'].mode()[0]\n",
    "mean_P2 = df_P2['value'].mean()\n",
    "print(median_P2)\n",
    "print(mode_P2)\n",
    "print(mean_P2)"
   ]
  },
  {
   "attachments": {},
   "cell_type": "markdown",
   "metadata": {},
   "source": [
    "Question E4: Merge the grouped dataframes into one dataframe and save it as newdata.csv"
   ]
  },
  {
   "cell_type": "code",
   "execution_count": 181,
   "metadata": {},
   "outputs": [
    {
     "data": {
      "text/plain": [
       "Index(['sensor_id', 'sensor_type', 'location', 'lat', 'lon', 'timestamp',\n",
       "       'value_type', 'value', 'timestamp_new'],\n",
       "      dtype='object')"
      ]
     },
     "execution_count": 181,
     "metadata": {},
     "output_type": "execute_result"
    }
   ],
   "source": [
    "df.columns"
   ]
  },
  {
   "cell_type": "code",
   "execution_count": 182,
   "metadata": {},
   "outputs": [
    {
     "name": "stdout",
     "output_type": "stream",
     "text": [
      "      sensor_id_temperature sensor_type_temperature location_temperature  \\\n",
      "0                       145                   DHT22                 3528   \n",
      "1                       145                   DHT22                 3528   \n",
      "2                       145                   DHT22                 3528   \n",
      "3                       145                   DHT22                 3528   \n",
      "4                       145                   DHT22                 3528   \n",
      "...                     ...                     ...                  ...   \n",
      "10741                   145                   DHT22                 3528   \n",
      "10742                   145                   DHT22                 3528   \n",
      "10743                   145                   DHT22                 3528   \n",
      "10744                   145                   DHT22                 3528   \n",
      "10745                   145                   DHT22                 3528   \n",
      "\n",
      "      lat_temperature lon_temperature            timestamp_temperature  \\\n",
      "0              -0.286          36.067 2023-02-04 04:22:51.323124+00:00   \n",
      "1              -0.286          36.067 2023-02-04 04:25:32.354784+00:00   \n",
      "2              -0.286          36.067 2023-02-04 04:28:12.716734+00:00   \n",
      "3              -0.286          36.067 2023-02-04 04:30:52.437513+00:00   \n",
      "4              -0.286          36.067 2023-02-04 04:33:32.677578+00:00   \n",
      "...               ...             ...                              ...   \n",
      "10741          -0.286          36.067 2023-02-24 07:43:55.358126+00:00   \n",
      "10742          -0.286          36.067 2023-02-24 07:46:35.195100+00:00   \n",
      "10743          -0.286          36.067 2023-02-24 07:49:15.756956+00:00   \n",
      "10744          -0.286          36.067 2023-02-24 07:51:55.687329+00:00   \n",
      "10745          -0.286          36.067 2023-02-24 07:54:35.530536+00:00   \n",
      "\n",
      "      value_type_temperature  value_temperature             timestamp_new  \\\n",
      "0                temperature                 12 2023-02-04 04:22:51+00:00   \n",
      "1                temperature                 11 2023-02-04 04:25:32+00:00   \n",
      "2                temperature                 12 2023-02-04 04:28:12+00:00   \n",
      "3                temperature                 12 2023-02-04 04:30:52+00:00   \n",
      "4                temperature                 12 2023-02-04 04:33:32+00:00   \n",
      "...                      ...                ...                       ...   \n",
      "10741            temperature                 26 2023-02-24 07:43:55+00:00   \n",
      "10742            temperature                 26 2023-02-24 07:46:35+00:00   \n",
      "10743            temperature                 26 2023-02-24 07:49:15+00:00   \n",
      "10744            temperature                 27 2023-02-24 07:51:55+00:00   \n",
      "10745            temperature                 27 2023-02-24 07:54:35+00:00   \n",
      "\n",
      "      sensor_id_humidity  ... value_type_P1 value_P1 sensor_id_P2  \\\n",
      "0                    145  ...            P1     59.0          144   \n",
      "1                    145  ...            P1     51.0          144   \n",
      "2                    145  ...            P1     56.0          144   \n",
      "3                    145  ...            P1     56.0          144   \n",
      "4                    145  ...            P1    117.0          144   \n",
      "...                  ...  ...           ...      ...          ...   \n",
      "10741                145  ...            P1      0.0          144   \n",
      "10742                145  ...            P1      7.0          144   \n",
      "10743                145  ...            P1      1.0          144   \n",
      "10744                145  ...            P1      0.0          144   \n",
      "10745                145  ...            P1      0.0          144   \n",
      "\n",
      "      sensor_type_P2 location_P2  lat_P2  lon_P2  \\\n",
      "0             SDS011        3528  -0.286  36.067   \n",
      "1             SDS011        3528  -0.286  36.067   \n",
      "2             SDS011        3528  -0.286  36.067   \n",
      "3             SDS011        3528  -0.286  36.067   \n",
      "4             SDS011        3528  -0.286  36.067   \n",
      "...              ...         ...     ...     ...   \n",
      "10741         SDS011        3528  -0.286  36.067   \n",
      "10742         SDS011        3528  -0.286  36.067   \n",
      "10743         SDS011        3528  -0.286  36.067   \n",
      "10744         SDS011        3528  -0.286  36.067   \n",
      "10745         SDS011        3528  -0.286  36.067   \n",
      "\n",
      "                          timestamp_P2 value_type_P2 value_P2  \n",
      "0     2023-02-04 04:22:51.323125+00:00            P2     27.0  \n",
      "1     2023-02-04 04:25:32.355326+00:00            P2     27.0  \n",
      "2     2023-02-04 04:28:12.715838+00:00            P2     23.0  \n",
      "3     2023-02-04 04:30:52.437520+00:00            P2     25.0  \n",
      "4     2023-02-04 04:33:32.678818+00:00            P2     31.0  \n",
      "...                                ...           ...      ...  \n",
      "10741 2023-02-24 07:43:55.409324+00:00            P2      0.0  \n",
      "10742 2023-02-24 07:46:35.195110+00:00            P2      7.0  \n",
      "10743 2023-02-24 07:49:15.757782+00:00            P2      1.0  \n",
      "10744 2023-02-24 07:51:55.687147+00:00            P2      0.0  \n",
      "10745 2023-02-24 07:54:35.530545+00:00            P2      0.0  \n",
      "\n",
      "[10746 rows x 33 columns]\n"
     ]
    }
   ],
   "source": [
    "df_merged = df_temperature.merge(df_humidity,how='left', on='timestamp_new',suffixes=('_temperature', '_humidity'))\n",
    "df_merged = df_merged.merge(df_P1,how='left', on='timestamp_new',suffixes=('_prev', '_P1'))\n",
    "df_merged = df_merged.merge(df_P2,how='left', on='timestamp_new',suffixes=('_P1', '_P2'))\n",
    "\n",
    "print(df_merged)"
   ]
  },
  {
   "cell_type": "code",
   "execution_count": 183,
   "metadata": {},
   "outputs": [],
   "source": [
    "df_merged.to_csv('newdata.csv', index=False)"
   ]
  },
  {
   "attachments": {},
   "cell_type": "markdown",
   "metadata": {},
   "source": [
    "Question E5: Open the new data file and select only 'timestamp_new','value_temperature','value_humidity','value_P1' and 'value_P2' collunms"
   ]
  },
  {
   "cell_type": "code",
   "execution_count": 184,
   "metadata": {},
   "outputs": [
    {
     "data": {
      "text/html": [
       "<div>\n",
       "<style scoped>\n",
       "    .dataframe tbody tr th:only-of-type {\n",
       "        vertical-align: middle;\n",
       "    }\n",
       "\n",
       "    .dataframe tbody tr th {\n",
       "        vertical-align: top;\n",
       "    }\n",
       "\n",
       "    .dataframe thead th {\n",
       "        text-align: right;\n",
       "    }\n",
       "</style>\n",
       "<table border=\"1\" class=\"dataframe\">\n",
       "  <thead>\n",
       "    <tr style=\"text-align: right;\">\n",
       "      <th></th>\n",
       "      <th>value_temperature</th>\n",
       "      <th>timestamp_new</th>\n",
       "      <th>value_humidity</th>\n",
       "      <th>value_P1</th>\n",
       "      <th>value_P2</th>\n",
       "    </tr>\n",
       "  </thead>\n",
       "  <tbody>\n",
       "    <tr>\n",
       "      <th>0</th>\n",
       "      <td>12</td>\n",
       "      <td>2023-02-04 04:22:51+00:00</td>\n",
       "      <td>100</td>\n",
       "      <td>59.0</td>\n",
       "      <td>27.0</td>\n",
       "    </tr>\n",
       "    <tr>\n",
       "      <th>1</th>\n",
       "      <td>11</td>\n",
       "      <td>2023-02-04 04:25:32+00:00</td>\n",
       "      <td>100</td>\n",
       "      <td>51.0</td>\n",
       "      <td>27.0</td>\n",
       "    </tr>\n",
       "    <tr>\n",
       "      <th>2</th>\n",
       "      <td>12</td>\n",
       "      <td>2023-02-04 04:28:12+00:00</td>\n",
       "      <td>100</td>\n",
       "      <td>56.0</td>\n",
       "      <td>23.0</td>\n",
       "    </tr>\n",
       "    <tr>\n",
       "      <th>3</th>\n",
       "      <td>12</td>\n",
       "      <td>2023-02-04 04:30:52+00:00</td>\n",
       "      <td>100</td>\n",
       "      <td>56.0</td>\n",
       "      <td>25.0</td>\n",
       "    </tr>\n",
       "    <tr>\n",
       "      <th>4</th>\n",
       "      <td>12</td>\n",
       "      <td>2023-02-04 04:33:32+00:00</td>\n",
       "      <td>100</td>\n",
       "      <td>117.0</td>\n",
       "      <td>31.0</td>\n",
       "    </tr>\n",
       "    <tr>\n",
       "      <th>...</th>\n",
       "      <td>...</td>\n",
       "      <td>...</td>\n",
       "      <td>...</td>\n",
       "      <td>...</td>\n",
       "      <td>...</td>\n",
       "    </tr>\n",
       "    <tr>\n",
       "      <th>10741</th>\n",
       "      <td>26</td>\n",
       "      <td>2023-02-24 07:43:55+00:00</td>\n",
       "      <td>60</td>\n",
       "      <td>0.0</td>\n",
       "      <td>0.0</td>\n",
       "    </tr>\n",
       "    <tr>\n",
       "      <th>10742</th>\n",
       "      <td>26</td>\n",
       "      <td>2023-02-24 07:46:35+00:00</td>\n",
       "      <td>60</td>\n",
       "      <td>7.0</td>\n",
       "      <td>7.0</td>\n",
       "    </tr>\n",
       "    <tr>\n",
       "      <th>10743</th>\n",
       "      <td>26</td>\n",
       "      <td>2023-02-24 07:49:15+00:00</td>\n",
       "      <td>59</td>\n",
       "      <td>1.0</td>\n",
       "      <td>1.0</td>\n",
       "    </tr>\n",
       "    <tr>\n",
       "      <th>10744</th>\n",
       "      <td>27</td>\n",
       "      <td>2023-02-24 07:51:55+00:00</td>\n",
       "      <td>59</td>\n",
       "      <td>0.0</td>\n",
       "      <td>0.0</td>\n",
       "    </tr>\n",
       "    <tr>\n",
       "      <th>10745</th>\n",
       "      <td>27</td>\n",
       "      <td>2023-02-24 07:54:35+00:00</td>\n",
       "      <td>59</td>\n",
       "      <td>0.0</td>\n",
       "      <td>0.0</td>\n",
       "    </tr>\n",
       "  </tbody>\n",
       "</table>\n",
       "<p>10746 rows × 5 columns</p>\n",
       "</div>"
      ],
      "text/plain": [
       "       value_temperature              timestamp_new  value_humidity  value_P1  \\\n",
       "0                     12  2023-02-04 04:22:51+00:00             100      59.0   \n",
       "1                     11  2023-02-04 04:25:32+00:00             100      51.0   \n",
       "2                     12  2023-02-04 04:28:12+00:00             100      56.0   \n",
       "3                     12  2023-02-04 04:30:52+00:00             100      56.0   \n",
       "4                     12  2023-02-04 04:33:32+00:00             100     117.0   \n",
       "...                  ...                        ...             ...       ...   \n",
       "10741                 26  2023-02-24 07:43:55+00:00              60       0.0   \n",
       "10742                 26  2023-02-24 07:46:35+00:00              60       7.0   \n",
       "10743                 26  2023-02-24 07:49:15+00:00              59       1.0   \n",
       "10744                 27  2023-02-24 07:51:55+00:00              59       0.0   \n",
       "10745                 27  2023-02-24 07:54:35+00:00              59       0.0   \n",
       "\n",
       "       value_P2  \n",
       "0          27.0  \n",
       "1          27.0  \n",
       "2          23.0  \n",
       "3          25.0  \n",
       "4          31.0  \n",
       "...         ...  \n",
       "10741       0.0  \n",
       "10742       7.0  \n",
       "10743       1.0  \n",
       "10744       0.0  \n",
       "10745       0.0  \n",
       "\n",
       "[10746 rows x 5 columns]"
      ]
     },
     "execution_count": 184,
     "metadata": {},
     "output_type": "execute_result"
    }
   ],
   "source": [
    "data = pd.read_csv('newdata.csv',usecols=['timestamp_new','value_temperature','value_humidity','value_P1','value_P2'])\n",
    "data"
   ]
  },
  {
   "attachments": {},
   "cell_type": "markdown",
   "metadata": {},
   "source": [
    "Question E6: Replace the missing values in collumns 'value_P1' and 'value_P2' with the mean of the same collumns"
   ]
  },
  {
   "cell_type": "code",
   "execution_count": 185,
   "metadata": {},
   "outputs": [
    {
     "data": {
      "text/html": [
       "<div>\n",
       "<style scoped>\n",
       "    .dataframe tbody tr th:only-of-type {\n",
       "        vertical-align: middle;\n",
       "    }\n",
       "\n",
       "    .dataframe tbody tr th {\n",
       "        vertical-align: top;\n",
       "    }\n",
       "\n",
       "    .dataframe thead th {\n",
       "        text-align: right;\n",
       "    }\n",
       "</style>\n",
       "<table border=\"1\" class=\"dataframe\">\n",
       "  <thead>\n",
       "    <tr style=\"text-align: right;\">\n",
       "      <th></th>\n",
       "      <th>value_temperature</th>\n",
       "      <th>timestamp_new</th>\n",
       "      <th>value_humidity</th>\n",
       "      <th>value_P1</th>\n",
       "      <th>value_P2</th>\n",
       "    </tr>\n",
       "  </thead>\n",
       "  <tbody>\n",
       "    <tr>\n",
       "      <th>7</th>\n",
       "      <td>13</td>\n",
       "      <td>2023-02-04 04:41:32+00:00</td>\n",
       "      <td>100</td>\n",
       "      <td>NaN</td>\n",
       "      <td>NaN</td>\n",
       "    </tr>\n",
       "    <tr>\n",
       "      <th>47</th>\n",
       "      <td>20</td>\n",
       "      <td>2023-02-04 06:28:18+00:00</td>\n",
       "      <td>83</td>\n",
       "      <td>NaN</td>\n",
       "      <td>NaN</td>\n",
       "    </tr>\n",
       "    <tr>\n",
       "      <th>49</th>\n",
       "      <td>21</td>\n",
       "      <td>2023-02-04 06:33:39+00:00</td>\n",
       "      <td>81</td>\n",
       "      <td>NaN</td>\n",
       "      <td>NaN</td>\n",
       "    </tr>\n",
       "    <tr>\n",
       "      <th>85</th>\n",
       "      <td>27</td>\n",
       "      <td>2023-02-04 08:09:43+00:00</td>\n",
       "      <td>46</td>\n",
       "      <td>NaN</td>\n",
       "      <td>NaN</td>\n",
       "    </tr>\n",
       "    <tr>\n",
       "      <th>90</th>\n",
       "      <td>29</td>\n",
       "      <td>2023-02-04 08:23:06+00:00</td>\n",
       "      <td>43</td>\n",
       "      <td>NaN</td>\n",
       "      <td>NaN</td>\n",
       "    </tr>\n",
       "    <tr>\n",
       "      <th>...</th>\n",
       "      <td>...</td>\n",
       "      <td>...</td>\n",
       "      <td>...</td>\n",
       "      <td>...</td>\n",
       "      <td>...</td>\n",
       "    </tr>\n",
       "    <tr>\n",
       "      <th>10710</th>\n",
       "      <td>20</td>\n",
       "      <td>2023-02-24 06:21:11+00:00</td>\n",
       "      <td>84</td>\n",
       "      <td>NaN</td>\n",
       "      <td>NaN</td>\n",
       "    </tr>\n",
       "    <tr>\n",
       "      <th>10714</th>\n",
       "      <td>21</td>\n",
       "      <td>2023-02-24 06:31:51+00:00</td>\n",
       "      <td>82</td>\n",
       "      <td>NaN</td>\n",
       "      <td>NaN</td>\n",
       "    </tr>\n",
       "    <tr>\n",
       "      <th>10716</th>\n",
       "      <td>21</td>\n",
       "      <td>2023-02-24 06:37:12+00:00</td>\n",
       "      <td>76</td>\n",
       "      <td>NaN</td>\n",
       "      <td>NaN</td>\n",
       "    </tr>\n",
       "    <tr>\n",
       "      <th>10727</th>\n",
       "      <td>23</td>\n",
       "      <td>2023-02-24 07:06:34+00:00</td>\n",
       "      <td>71</td>\n",
       "      <td>NaN</td>\n",
       "      <td>NaN</td>\n",
       "    </tr>\n",
       "    <tr>\n",
       "      <th>10734</th>\n",
       "      <td>25</td>\n",
       "      <td>2023-02-24 07:25:13+00:00</td>\n",
       "      <td>68</td>\n",
       "      <td>NaN</td>\n",
       "      <td>NaN</td>\n",
       "    </tr>\n",
       "  </tbody>\n",
       "</table>\n",
       "<p>691 rows × 5 columns</p>\n",
       "</div>"
      ],
      "text/plain": [
       "       value_temperature              timestamp_new  value_humidity  value_P1  \\\n",
       "7                     13  2023-02-04 04:41:32+00:00             100       NaN   \n",
       "47                    20  2023-02-04 06:28:18+00:00              83       NaN   \n",
       "49                    21  2023-02-04 06:33:39+00:00              81       NaN   \n",
       "85                    27  2023-02-04 08:09:43+00:00              46       NaN   \n",
       "90                    29  2023-02-04 08:23:06+00:00              43       NaN   \n",
       "...                  ...                        ...             ...       ...   \n",
       "10710                 20  2023-02-24 06:21:11+00:00              84       NaN   \n",
       "10714                 21  2023-02-24 06:31:51+00:00              82       NaN   \n",
       "10716                 21  2023-02-24 06:37:12+00:00              76       NaN   \n",
       "10727                 23  2023-02-24 07:06:34+00:00              71       NaN   \n",
       "10734                 25  2023-02-24 07:25:13+00:00              68       NaN   \n",
       "\n",
       "       value_P2  \n",
       "7           NaN  \n",
       "47          NaN  \n",
       "49          NaN  \n",
       "85          NaN  \n",
       "90          NaN  \n",
       "...         ...  \n",
       "10710       NaN  \n",
       "10714       NaN  \n",
       "10716       NaN  \n",
       "10727       NaN  \n",
       "10734       NaN  \n",
       "\n",
       "[691 rows x 5 columns]"
      ]
     },
     "execution_count": 185,
     "metadata": {},
     "output_type": "execute_result"
    }
   ],
   "source": [
    "missing_values = pd.isnull(data['value_P1']) \n",
    "data[missing_values] "
   ]
  },
  {
   "cell_type": "code",
   "execution_count": 186,
   "metadata": {},
   "outputs": [],
   "source": [
    "data['value_P1'].fillna(data['value_P1'].mean(), inplace=True) \n",
    "data['value_P2'].fillna(data['value_P2'].mean(), inplace=True) "
   ]
  },
  {
   "cell_type": "code",
   "execution_count": 187,
   "metadata": {},
   "outputs": [],
   "source": [
    "missing_values = pd.isnull(data['value_P2'])"
   ]
  },
  {
   "cell_type": "code",
   "execution_count": 188,
   "metadata": {},
   "outputs": [
    {
     "data": {
      "text/html": [
       "<div>\n",
       "<style scoped>\n",
       "    .dataframe tbody tr th:only-of-type {\n",
       "        vertical-align: middle;\n",
       "    }\n",
       "\n",
       "    .dataframe tbody tr th {\n",
       "        vertical-align: top;\n",
       "    }\n",
       "\n",
       "    .dataframe thead th {\n",
       "        text-align: right;\n",
       "    }\n",
       "</style>\n",
       "<table border=\"1\" class=\"dataframe\">\n",
       "  <thead>\n",
       "    <tr style=\"text-align: right;\">\n",
       "      <th></th>\n",
       "      <th>value_temperature</th>\n",
       "      <th>timestamp_new</th>\n",
       "      <th>value_humidity</th>\n",
       "      <th>value_P1</th>\n",
       "      <th>value_P2</th>\n",
       "    </tr>\n",
       "  </thead>\n",
       "  <tbody>\n",
       "  </tbody>\n",
       "</table>\n",
       "</div>"
      ],
      "text/plain": [
       "Empty DataFrame\n",
       "Columns: [value_temperature, timestamp_new, value_humidity, value_P1, value_P2]\n",
       "Index: []"
      ]
     },
     "execution_count": 188,
     "metadata": {},
     "output_type": "execute_result"
    }
   ],
   "source": [
    "data[missing_values] "
   ]
  },
  {
   "attachments": {},
   "cell_type": "markdown",
   "metadata": {},
   "source": [
    "Question E7: Compute the correlations between temperature and humidity; P1 and P2"
   ]
  },
  {
   "cell_type": "code",
   "execution_count": 189,
   "metadata": {},
   "outputs": [
    {
     "name": "stdout",
     "output_type": "stream",
     "text": [
      "Correlation between temparature and humidity -0.9028239849182673\n"
     ]
    }
   ],
   "source": [
    "corr_temp_humidity = data['value_temperature'].corr(data['value_humidity'])\n",
    "\n",
    "print (\"Correlation between temparature and humidity\",corr_temp_humidity)"
   ]
  },
  {
   "cell_type": "code",
   "execution_count": 190,
   "metadata": {},
   "outputs": [
    {
     "name": "stdout",
     "output_type": "stream",
     "text": [
      "Correlation between P1 and P2 0.8734801215476381\n"
     ]
    }
   ],
   "source": [
    "corr_p1_p2 = data['value_P1'].corr(data['value_P2'])\n",
    "\n",
    "print (\"Correlation between P1 and P2\",corr_p1_p2)"
   ]
  },
  {
   "attachments": {},
   "cell_type": "markdown",
   "metadata": {},
   "source": [
    "Question E8: Create a new dataframe comprising of the average values of the variables by day"
   ]
  },
  {
   "cell_type": "code",
   "execution_count": 191,
   "metadata": {},
   "outputs": [
    {
     "data": {
      "text/html": [
       "<div>\n",
       "<style scoped>\n",
       "    .dataframe tbody tr th:only-of-type {\n",
       "        vertical-align: middle;\n",
       "    }\n",
       "\n",
       "    .dataframe tbody tr th {\n",
       "        vertical-align: top;\n",
       "    }\n",
       "\n",
       "    .dataframe thead th {\n",
       "        text-align: right;\n",
       "    }\n",
       "</style>\n",
       "<table border=\"1\" class=\"dataframe\">\n",
       "  <thead>\n",
       "    <tr style=\"text-align: right;\">\n",
       "      <th></th>\n",
       "      <th>value_temperature</th>\n",
       "      <th>value_humidity</th>\n",
       "      <th>value_P1</th>\n",
       "      <th>value_P2</th>\n",
       "    </tr>\n",
       "    <tr>\n",
       "      <th>timestamp_new</th>\n",
       "      <th></th>\n",
       "      <th></th>\n",
       "      <th></th>\n",
       "      <th></th>\n",
       "    </tr>\n",
       "  </thead>\n",
       "  <tbody>\n",
       "    <tr>\n",
       "      <th>2023-02-04 00:00:00+00:00</th>\n",
       "      <td>22.312783</td>\n",
       "      <td>62.269231</td>\n",
       "      <td>22.261655</td>\n",
       "      <td>7.998801</td>\n",
       "    </tr>\n",
       "    <tr>\n",
       "      <th>2023-02-05 00:00:00+00:00</th>\n",
       "      <td>22.171759</td>\n",
       "      <td>68.225926</td>\n",
       "      <td>28.545665</td>\n",
       "      <td>12.723529</td>\n",
       "    </tr>\n",
       "    <tr>\n",
       "      <th>2023-02-06 00:00:00+00:00</th>\n",
       "      <td>22.223562</td>\n",
       "      <td>61.916048</td>\n",
       "      <td>35.875720</td>\n",
       "      <td>13.835411</td>\n",
       "    </tr>\n",
       "    <tr>\n",
       "      <th>2023-02-07 00:00:00+00:00</th>\n",
       "      <td>22.747227</td>\n",
       "      <td>65.021719</td>\n",
       "      <td>33.383922</td>\n",
       "      <td>13.310616</td>\n",
       "    </tr>\n",
       "    <tr>\n",
       "      <th>2023-02-08 00:00:00+00:00</th>\n",
       "      <td>22.932282</td>\n",
       "      <td>62.166976</td>\n",
       "      <td>26.097481</td>\n",
       "      <td>9.938813</td>\n",
       "    </tr>\n",
       "    <tr>\n",
       "      <th>2023-02-09 00:00:00+00:00</th>\n",
       "      <td>18.371345</td>\n",
       "      <td>74.260234</td>\n",
       "      <td>2.217649</td>\n",
       "      <td>0.977087</td>\n",
       "    </tr>\n",
       "  </tbody>\n",
       "</table>\n",
       "</div>"
      ],
      "text/plain": [
       "                           value_temperature  value_humidity   value_P1  \\\n",
       "timestamp_new                                                             \n",
       "2023-02-04 00:00:00+00:00          22.312783       62.269231  22.261655   \n",
       "2023-02-05 00:00:00+00:00          22.171759       68.225926  28.545665   \n",
       "2023-02-06 00:00:00+00:00          22.223562       61.916048  35.875720   \n",
       "2023-02-07 00:00:00+00:00          22.747227       65.021719  33.383922   \n",
       "2023-02-08 00:00:00+00:00          22.932282       62.166976  26.097481   \n",
       "2023-02-09 00:00:00+00:00          18.371345       74.260234   2.217649   \n",
       "\n",
       "                            value_P2  \n",
       "timestamp_new                         \n",
       "2023-02-04 00:00:00+00:00   7.998801  \n",
       "2023-02-05 00:00:00+00:00  12.723529  \n",
       "2023-02-06 00:00:00+00:00  13.835411  \n",
       "2023-02-07 00:00:00+00:00  13.310616  \n",
       "2023-02-08 00:00:00+00:00   9.938813  \n",
       "2023-02-09 00:00:00+00:00   0.977087  "
      ]
     },
     "execution_count": 191,
     "metadata": {},
     "output_type": "execute_result"
    }
   ],
   "source": [
    "data['timestamp_new'] = pd.to_datetime(df['timestamp_new'], infer_datetime_format=True) \n",
    "data['timestamp_new'] = df['timestamp_new'].dt.floor('D')  \n",
    "\n",
    "means_feb = data.groupby('timestamp_new').mean() \n",
    "means_feb"
   ]
  },
  {
   "attachments": {},
   "cell_type": "markdown",
   "metadata": {},
   "source": [
    "Question E9: Download the dataset \"Nakuru Sensor Data for November 2021 from https://open.africa/dataset/sensorsafrica-airquality-archive-nakuru/resource/1f11351e-156b-4e4c-a063-b86a6ee07c4a\"\n",
    "\n",
    "Load the data into a pandas dataframe and develop a dataframe similar to what you have just done in Question no's 6 - 13 above"
   ]
  },
  {
   "cell_type": "code",
   "execution_count": 192,
   "metadata": {},
   "outputs": [
    {
     "name": "stderr",
     "output_type": "stream",
     "text": [
      "C:\\Users\\HP\\AppData\\Local\\Temp\\ipykernel_6388\\1651276251.py:29: SettingWithCopyWarning: \n",
      "A value is trying to be set on a copy of a slice from a DataFrame.\n",
      "Try using .loc[row_indexer,col_indexer] = value instead\n",
      "\n",
      "See the caveats in the documentation: https://pandas.pydata.org/pandas-docs/stable/user_guide/indexing.html#returning-a-view-versus-a-copy\n",
      "  data1_temperature['value'] = pd.to_numeric(data1_temperature['value'])\n",
      "C:\\Users\\HP\\AppData\\Local\\Temp\\ipykernel_6388\\1651276251.py:30: SettingWithCopyWarning: \n",
      "A value is trying to be set on a copy of a slice from a DataFrame.\n",
      "Try using .loc[row_indexer,col_indexer] = value instead\n",
      "\n",
      "See the caveats in the documentation: https://pandas.pydata.org/pandas-docs/stable/user_guide/indexing.html#returning-a-view-versus-a-copy\n",
      "  data1_humidity['value'] = pd.to_numeric(data1_humidity['value'])\n",
      "C:\\Users\\HP\\AppData\\Local\\Temp\\ipykernel_6388\\1651276251.py:31: SettingWithCopyWarning: \n",
      "A value is trying to be set on a copy of a slice from a DataFrame.\n",
      "Try using .loc[row_indexer,col_indexer] = value instead\n",
      "\n",
      "See the caveats in the documentation: https://pandas.pydata.org/pandas-docs/stable/user_guide/indexing.html#returning-a-view-versus-a-copy\n",
      "  data1_P1['value'] = pd.to_numeric(data1_P1['value'])\n",
      "C:\\Users\\HP\\AppData\\Local\\Temp\\ipykernel_6388\\1651276251.py:32: SettingWithCopyWarning: \n",
      "A value is trying to be set on a copy of a slice from a DataFrame.\n",
      "Try using .loc[row_indexer,col_indexer] = value instead\n",
      "\n",
      "See the caveats in the documentation: https://pandas.pydata.org/pandas-docs/stable/user_guide/indexing.html#returning-a-view-versus-a-copy\n",
      "  data1_P2['value'] = pd.to_numeric(data1_P2['value'])\n"
     ]
    },
    {
     "data": {
      "text/html": [
       "<div>\n",
       "<style scoped>\n",
       "    .dataframe tbody tr th:only-of-type {\n",
       "        vertical-align: middle;\n",
       "    }\n",
       "\n",
       "    .dataframe tbody tr th {\n",
       "        vertical-align: top;\n",
       "    }\n",
       "\n",
       "    .dataframe thead th {\n",
       "        text-align: right;\n",
       "    }\n",
       "</style>\n",
       "<table border=\"1\" class=\"dataframe\">\n",
       "  <thead>\n",
       "    <tr style=\"text-align: right;\">\n",
       "      <th></th>\n",
       "      <th>value_temperature</th>\n",
       "      <th>value_humidity</th>\n",
       "      <th>value_P1</th>\n",
       "      <th>value_P2</th>\n",
       "    </tr>\n",
       "    <tr>\n",
       "      <th>timestamp_new</th>\n",
       "      <th></th>\n",
       "      <th></th>\n",
       "      <th></th>\n",
       "      <th></th>\n",
       "    </tr>\n",
       "  </thead>\n",
       "  <tbody>\n",
       "    <tr>\n",
       "      <th>2022-11-25 00:00:00+00:00</th>\n",
       "      <td>19.655344</td>\n",
       "      <td>88.478364</td>\n",
       "      <td>16.462186</td>\n",
       "      <td>9.167404</td>\n",
       "    </tr>\n",
       "    <tr>\n",
       "      <th>2022-11-26 00:00:00+00:00</th>\n",
       "      <td>19.810835</td>\n",
       "      <td>90.645812</td>\n",
       "      <td>16.822895</td>\n",
       "      <td>9.652436</td>\n",
       "    </tr>\n",
       "  </tbody>\n",
       "</table>\n",
       "</div>"
      ],
      "text/plain": [
       "                           value_temperature  value_humidity   value_P1  \\\n",
       "timestamp_new                                                             \n",
       "2022-11-25 00:00:00+00:00          19.655344       88.478364  16.462186   \n",
       "2022-11-26 00:00:00+00:00          19.810835       90.645812  16.822895   \n",
       "\n",
       "                           value_P2  \n",
       "timestamp_new                        \n",
       "2022-11-25 00:00:00+00:00  9.167404  \n",
       "2022-11-26 00:00:00+00:00  9.652436  "
      ]
     },
     "execution_count": 192,
     "metadata": {},
     "output_type": "execute_result"
    }
   ],
   "source": [
    "#import pandas library\n",
    "import pandas as pd\n",
    "\n",
    "#load data from csv file\n",
    "data1 = pd.read_csv('C:/Users/HP/Desktop/DSAKigali/november_2022_sensor.csv')\n",
    "\n",
    "#split the columns into different columns \n",
    "column_split = data1['sensor_id;sensor_type;location;lat;lon;timestamp;value_type;value'].str.split(pat=';',expand=True)\n",
    "column_split.columns = ['sensor_id','sensor_type','location','lat','lon','timestamp','value_type','value']\n",
    "\n",
    "#split the columns into different\n",
    "data1=pd.concat([data1,column_split],axis=1)\n",
    "data1 = data1.drop('sensor_id;sensor_type;location;lat;lon;timestamp;value_type;value',axis=1)\n",
    "\n",
    "#question E1 create a new column\n",
    "data1['timestamp'] = pd.to_datetime(data1['timestamp'], infer_datetime_format=True)\n",
    "data1['timestamp_new'] = data1['timestamp'].dt.floor('S')\n",
    "\n",
    "#question E2 split the columns into different\n",
    "grouped = data1.groupby(data1.value_type) \n",
    "\n",
    "data1_temperature = grouped.get_group(\"temperature\") \n",
    "data1_humidity = grouped.get_group(\"humidity\") \n",
    "data1_P1 = grouped.get_group(\"P1\") \n",
    "data1_P2 = grouped.get_group(\"P2\")\n",
    "\n",
    "#question E3 find mean mode and median\n",
    "# convert value column to numeric data type\n",
    "data1_temperature['value'] = pd.to_numeric(data1_temperature['value'])\n",
    "data1_humidity['value'] = pd.to_numeric(data1_humidity['value'])\n",
    "data1_P1['value'] = pd.to_numeric(data1_P1['value'])\n",
    "data1_P2['value'] = pd.to_numeric(data1_P2['value'])\n",
    "\n",
    "\n",
    "# compute median of value column\n",
    "median_temp = data1_temperature['value'].median()\n",
    "median_humidity = data1_humidity['value'].median()\n",
    "median_P1 = data1_P1['value'].median()\n",
    "median_P2 = data1_P2['value'].median()\n",
    "\n",
    "# compute mode of value column\n",
    "mode_temp = data1_temperature['value'].mode()[0]\n",
    "mode_humidity = data1_humidity['value'].mode()[0]\n",
    "mode_P1 = data1_P1['value'].mode()[0]\n",
    "mode_P2 = data1_P2['value'].mode()[0]\n",
    "\n",
    "# compute mean of value column\n",
    "mean_temp = data1_temperature['value'].mean()\n",
    "mean_humidity = data1_humidity['value'].mean()\n",
    "mean_P1 = data1_P1['value'].mean()\n",
    "mean_P2 = data1_P2['value'].mean()\n",
    "\n",
    "#question E4 merge the grouped data frame with another\n",
    "data1_merged = data1_temperature.merge(data1_humidity,how='left', on='timestamp_new',suffixes=('_temperature', '_humidity'))\n",
    "data1_merged = data1_merged.merge(data1_P1,how='left', on='timestamp_new',suffixes=('_prev', '_P1'))\n",
    "data1_merged = data1_merged.merge(data1_P2,how='left', on='timestamp_new',suffixes=('_P1', '_P2'))\n",
    "data1_merged.to_csv('newdata1.csv', index=False)\n",
    "\n",
    "#question E5 open new data file \n",
    "data2 = pd.read_csv('newdata1.csv',usecols=['timestamp_new','value_temperature','value_humidity','value_P1','value_P2'])\n",
    "\n",
    "#question E6 open new data file\n",
    "missing_values = pd.isnull(data2['value_P1']) \n",
    "\n",
    "data2['value_P1'].fillna(data2['value_P1'].mean(), inplace=True) \n",
    "data2['value_P2'].fillna(data2['value_P2'].mean(), inplace=True) \n",
    "\n",
    "missing_values = pd.isnull(data2['value_P2'])\n",
    "\n",
    "#question E7 compute the correlations \n",
    "corr_temp_humidity = data2['value_temperature'].corr(data2['value_humidity'])\n",
    "corr_p1_p2 = data2['value_P1'].corr(data2['value_P2'])\n",
    "\n",
    "#question E8 create a new dataframe comprising of the avarage \n",
    "data2['timestamp_new'] = pd.to_datetime(data1['timestamp_new'], infer_datetime_format=True) \n",
    "data2['timestamp_new'] = data1['timestamp_new'].dt.floor('D')  \n",
    "\n",
    "means_nov = data2.groupby('timestamp_new').mean() \n",
    "means_nov\n"
   ]
  },
  {
   "attachments": {},
   "cell_type": "markdown",
   "metadata": {},
   "source": [
    "Question E10: Convert the means_feb and means_nov to numpy arrays ... and then compute the average of each collumn\n",
    "\n",
    "Hint: The results are numpy arrays"
   ]
  },
  {
   "cell_type": "code",
   "execution_count": 193,
   "metadata": {},
   "outputs": [
    {
     "data": {
      "text/plain": [
       "array([21.79315977, 65.64335563, 24.73034846,  9.79737637])"
      ]
     },
     "execution_count": 193,
     "metadata": {},
     "output_type": "execute_result"
    }
   ],
   "source": [
    "feb_numpy_array = means_feb.to_numpy()\n",
    "feb_average = np.mean(feb_numpy_array, axis = 0)\n",
    "feb_average"
   ]
  },
  {
   "cell_type": "code",
   "execution_count": 194,
   "metadata": {},
   "outputs": [
    {
     "data": {
      "text/plain": [
       "array([19.73308934, 89.5620881 , 16.64254031,  9.40992022])"
      ]
     },
     "execution_count": 194,
     "metadata": {},
     "output_type": "execute_result"
    }
   ],
   "source": [
    "nov_numpy_array = means_nov.to_numpy()\n",
    "nov_average = np.mean(nov_numpy_array, axis = 0)\n",
    "nov_average"
   ]
  },
  {
   "cell_type": "code",
   "execution_count": 195,
   "metadata": {},
   "outputs": [
    {
     "name": "stdout",
     "output_type": "stream",
     "text": [
      "[-2.0600704229107585, 23.918732476324024, -8.087808148520839, -0.38745615804600675]\n"
     ]
    }
   ],
   "source": [
    "def sub():\n",
    "    diff = []\n",
    "    for i in range(len(nov_average)):\n",
    "        result = nov_average[i] - feb_average[i]\n",
    "        diff.append(result)\n",
    "   \n",
    "    return diff\n",
    " \n",
    "# Print the result of the subtraction\n",
    "difference = sub()\n",
    "print(difference)"
   ]
  }
 ],
 "metadata": {
  "kernelspec": {
   "display_name": "dsa",
   "language": "python",
   "name": "dsa"
  },
  "language_info": {
   "codemirror_mode": {
    "name": "ipython",
    "version": 3
   },
   "file_extension": ".py",
   "mimetype": "text/x-python",
   "name": "python",
   "nbconvert_exporter": "python",
   "pygments_lexer": "ipython3",
   "version": "3.9.16"
  },
  "orig_nbformat": 4
 },
 "nbformat": 4,
 "nbformat_minor": 2
}
