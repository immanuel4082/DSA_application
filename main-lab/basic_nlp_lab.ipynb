{
  "cells": [
    {
      "cell_type": "markdown",
      "metadata": {
        "id": "view-in-github",
        "colab_type": "text"
      },
      "source": [
        "<a href=\"https://colab.research.google.com/github/immanuel4082/DSA_application/blob/main/main-lab/basic_nlp_lab.ipynb\" target=\"_parent\"><img src=\"https://colab.research.google.com/assets/colab-badge.svg\" alt=\"Open In Colab\"/></a>"
      ]
    },
    {
      "cell_type": "markdown",
      "metadata": {
        "id": "PzahbHOKuBfL"
      },
      "source": [
        "# BASIC NLP Lab\n",
        "In this section, we shall create more emphasis on what has already been covered in the pre-lab.\n",
        "\n",
        "## Objectives\n",
        "* Understand sentence segmentation.\n",
        "* Understand various ways of getting word embeddings.\n",
        "* Understand Part of Speech (POS) tagging.\n",
        "* Understand Named Entity Recognition (NER)."
      ]
    },
    {
      "cell_type": "markdown",
      "metadata": {
        "id": "HCtSOH6ev4Y-"
      },
      "source": [
        "Run this notebook at your own pace. Most of the code is already here, together with explanations. However, feel free to go back to the pre-lab to cross-reference related sections.\n",
        "Furthermore, there are a few places marked with `# Your code here` that require you to write code for the cells to run. Typically an archetype of this code can be found in the corresponding pre-lab notebook."
      ]
    },
    {
      "cell_type": "code",
      "execution_count": null,
      "metadata": {
        "id": "q8F3QKXjst05",
        "outputId": "77518c6a-9292-489f-ee40-d2b1ecb06090",
        "colab": {
          "base_uri": "https://localhost:8080/"
        }
      },
      "outputs": [
        {
          "output_type": "stream",
          "name": "stdout",
          "text": [
            "Collecting contractions\n",
            "  Downloading contractions-0.1.73-py2.py3-none-any.whl (8.7 kB)\n",
            "Collecting textsearch>=0.0.21 (from contractions)\n",
            "  Downloading textsearch-0.0.24-py2.py3-none-any.whl (7.6 kB)\n",
            "Collecting anyascii (from textsearch>=0.0.21->contractions)\n",
            "  Downloading anyascii-0.3.2-py3-none-any.whl (289 kB)\n",
            "\u001b[2K     \u001b[90m━━━━━━━━━━━━━━━━━━━━━━━━━━━━━━━━━━━━━━━━\u001b[0m \u001b[32m289.9/289.9 kB\u001b[0m \u001b[31m6.8 MB/s\u001b[0m eta \u001b[36m0:00:00\u001b[0m\n",
            "\u001b[?25hCollecting pyahocorasick (from textsearch>=0.0.21->contractions)\n",
            "  Downloading pyahocorasick-2.1.0-cp310-cp310-manylinux_2_5_x86_64.manylinux1_x86_64.manylinux_2_12_x86_64.manylinux2010_x86_64.whl (110 kB)\n",
            "\u001b[2K     \u001b[90m━━━━━━━━━━━━━━━━━━━━━━━━━━━━━━━━━━━━━━━━\u001b[0m \u001b[32m110.7/110.7 kB\u001b[0m \u001b[31m12.8 MB/s\u001b[0m eta \u001b[36m0:00:00\u001b[0m\n",
            "\u001b[?25hInstalling collected packages: pyahocorasick, anyascii, textsearch, contractions\n",
            "Successfully installed anyascii-0.3.2 contractions-0.1.73 pyahocorasick-2.1.0 textsearch-0.0.24\n",
            "Requirement already satisfied: nltk in /usr/local/lib/python3.10/dist-packages (3.8.1)\n",
            "Requirement already satisfied: click in /usr/local/lib/python3.10/dist-packages (from nltk) (8.1.7)\n",
            "Requirement already satisfied: joblib in /usr/local/lib/python3.10/dist-packages (from nltk) (1.4.2)\n",
            "Requirement already satisfied: regex>=2021.8.3 in /usr/local/lib/python3.10/dist-packages (from nltk) (2024.5.15)\n",
            "Requirement already satisfied: tqdm in /usr/local/lib/python3.10/dist-packages (from nltk) (4.66.4)\n",
            "Requirement already satisfied: gensim in /usr/local/lib/python3.10/dist-packages (4.3.2)\n",
            "Requirement already satisfied: numpy>=1.18.5 in /usr/local/lib/python3.10/dist-packages (from gensim) (1.25.2)\n",
            "Requirement already satisfied: scipy>=1.7.0 in /usr/local/lib/python3.10/dist-packages (from gensim) (1.11.4)\n",
            "Requirement already satisfied: smart-open>=1.8.1 in /usr/local/lib/python3.10/dist-packages (from gensim) (6.4.0)\n"
          ]
        }
      ],
      "source": [
        "# Install packages\n",
        "! pip install contractions\n",
        "! pip install nltk\n",
        "! pip install gensim"
      ]
    },
    {
      "cell_type": "code",
      "execution_count": null,
      "metadata": {
        "id": "1LiRB-cqtiUv"
      },
      "outputs": [],
      "source": [
        "# Load dependencies\n",
        "import numpy as np\n",
        "import re\n",
        "import requests\n",
        "import nltk\n",
        "nltk.download('wordnet', quiet=True)\n",
        "nltk.download('stopwords', quiet=True)\n",
        "nltk.download('omw-1.4', quiet=True)\n",
        "nltk.download('punkt', quiet=True)\n",
        "nltk.download('averaged_perceptron_tagger', quiet=True)\n",
        "from nltk.corpus import gutenberg, stopwords, wordnet\n",
        "from nltk import FreqDist, word_tokenize, pos_tag\n",
        "from nltk.stem import WordNetLemmatizer\n",
        "from nltk.collocations import BigramCollocationFinder, TrigramCollocationFinder\n",
        "from nltk.util import trigrams\n",
        "from sklearn.feature_extraction.text import TfidfVectorizer, CountVectorizer\n",
        "from collections import Counter\n",
        "import spacy\n",
        "from spacy.tokenizer import Tokenizer\n",
        "import math\n",
        "import contractions\n",
        "from itertools import islice"
      ]
    },
    {
      "cell_type": "code",
      "execution_count": null,
      "metadata": {
        "colab": {
          "base_uri": "https://localhost:8080/"
        },
        "id": "0AM1sWrG2fH2",
        "outputId": "abdc0452-455d-4ec3-e9df-4241499c1d7f"
      },
      "outputs": [
        {
          "output_type": "stream",
          "name": "stdout",
          "text": [
            "['tok2vec', 'tagger', 'parser', 'attribute_ruler', 'lemmatizer', 'ner']\n"
          ]
        }
      ],
      "source": [
        "# Init spacy\n",
        "nlp = spacy.load('en_core_web_sm')\n",
        "print(nlp.pipe_names)"
      ]
    },
    {
      "cell_type": "markdown",
      "metadata": {
        "id": "CU8fnzilst0-"
      },
      "source": [
        "### Text cleaning\n",
        "\n",
        "**Optional**. This is a standalone introductory section. You can skip it if you're confident in your understanding of text cleaning."
      ]
    },
    {
      "cell_type": "markdown",
      "metadata": {
        "id": "jbkimkuvst1A"
      },
      "source": [
        "Text cleaning is a fundamental pre-step before running machine learning models on text. This is simply because as humans we communicate differently compared to what an algorithm deems essential for working with text. For example, words like `a, the` etc might not be as important for the algorithm. Let's explore this below.\n",
        "\n",
        "Let us first work with the reuters dataset which contains short articles from Reuters."
      ]
    },
    {
      "cell_type": "code",
      "execution_count": null,
      "metadata": {
        "id": "LHm4bFCOst1B",
        "outputId": "d34c7495-7229-43f8-b54c-a8449ae551bd",
        "colab": {
          "base_uri": "https://localhost:8080/"
        }
      },
      "outputs": [
        {
          "output_type": "stream",
          "name": "stderr",
          "text": [
            "[nltk_data] Downloading package reuters to /root/nltk_data...\n"
          ]
        }
      ],
      "source": [
        "nltk.download('reuters')\n",
        "from nltk.corpus import reuters\n",
        "categories = ['nickel', 'gold', 'silver', 'tea', 'barley', 'fuel', 'crude', 'gas', 'heat']\n",
        "fields_for_categories = []\n",
        "docs_per_category = 10\n",
        "for c in categories:\n",
        "  fields_for_categories.append(reuters.fileids(c)[0:docs_per_category])\n"
      ]
    },
    {
      "cell_type": "code",
      "execution_count": null,
      "metadata": {
        "id": "NOxbzrGkst1D",
        "outputId": "1256d4c8-5897-4da9-a4a1-51037431c74e",
        "colab": {
          "base_uri": "https://localhost:8080/",
          "height": 35
        }
      },
      "outputs": [
        {
          "output_type": "execute_result",
          "data": {
            "text/plain": [
              "'WESTERN MINING TO OPEN NEW GOLD MINE IN AUSTRALIA '"
            ],
            "application/vnd.google.colaboratory.intrinsic+json": {
              "type": "string"
            }
          },
          "metadata": {},
          "execution_count": 5
        }
      ],
      "source": [
        "reuters_sample = ' '.join(reuters.words(fields_for_categories[1]))\n",
        "reuters_sample[0:50]"
      ]
    },
    {
      "cell_type": "code",
      "execution_count": null,
      "metadata": {
        "id": "CIfUeZVBst1E"
      },
      "outputs": [],
      "source": [
        "def tokenize_text(text):\n",
        "    pattern = r\"[a-zA-Z]+(?:'[a-z]+)?\"  # Regex pattern to match words, including those with apostrophes\n",
        "    text_tokens = nltk.regexp_tokenize(text, pattern)  # Tokenize using the regex pattern\n",
        "    lemmatizer = WordNetLemmatizer()\n",
        "    text_tokens = [lemmatizer.lemmatize(word.lower().strip()) for word in text_tokens]  # Convert tokens to lowercase, lemmatize, remove extra whitespace\n",
        "    return text_tokens"
      ]
    },
    {
      "cell_type": "code",
      "execution_count": null,
      "metadata": {
        "id": "oIjVTxvYst1F",
        "outputId": "b2b07b48-f434-49b8-91ef-0f5ab090bbe4",
        "colab": {
          "base_uri": "https://localhost:8080/"
        }
      },
      "outputs": [
        {
          "output_type": "execute_result",
          "data": {
            "text/plain": [
              "[('the', 80),\n",
              " ('to', 40),\n",
              " ('of', 40),\n",
              " ('a', 37),\n",
              " ('and', 31),\n",
              " ('gold', 29),\n",
              " ('said', 27),\n",
              " ('in', 22),\n",
              " ('at', 20),\n",
              " ('s', 16),\n",
              " ('it', 15),\n",
              " ('with', 13),\n",
              " ('warrant', 13),\n",
              " ('is', 11),\n",
              " ('dlrs', 10)]"
            ]
          },
          "metadata": {},
          "execution_count": 7
        }
      ],
      "source": [
        "r_sample_tokens = tokenize_text(reuters_sample) # tokenize the text\n",
        "r_sample_freqdist =FreqDist(r_sample_tokens) # Get frequency distributions\n",
        "r_sample_freqdist.most_common(15)"
      ]
    },
    {
      "cell_type": "markdown",
      "metadata": {
        "id": "t4lvgYrVst1G"
      },
      "source": [
        "To automatically define stop-words, we can assume that these are words that occur very frequently.\n",
        "If we have a small corpus that is limited to a specific domain, like all articles about \"gold\" in the reuters dataset used above, then this is not a great strategy.\n",
        "We see that the word \"gold\" is very frequent (since it's the topic of this dataset selection), however it's not a stopword.\n",
        "\n",
        "Clearly we don't want to remove words like \"gold\" since this is the category of the article.\n",
        "\n",
        "Let's then load a set of stopwords that is computed on \"all\" of english language."
      ]
    },
    {
      "cell_type": "code",
      "execution_count": null,
      "metadata": {
        "id": "ffY5O1MMst1H",
        "outputId": "8c277cba-10e9-44ee-83b2-1e8faaaa6a05",
        "colab": {
          "base_uri": "https://localhost:8080/"
        }
      },
      "outputs": [
        {
          "output_type": "stream",
          "name": "stderr",
          "text": [
            "[nltk_data] Downloading package punkt to /root/nltk_data...\n",
            "[nltk_data]   Package punkt is already up-to-date!\n"
          ]
        }
      ],
      "source": [
        "nltk.download('punkt')\n",
        "from nltk.corpus import stopwords\n",
        "from nltk.tokenize import word_tokenize\n",
        "\n",
        "stop_words = set(stopwords.words('english'))\n",
        "\n",
        "example_sent = \"\"\"This is a sample sentence,\n",
        "                  showing off the stop words filtration.\"\"\"\n",
        "\n",
        "\n",
        "def filter_stop_words(sent, return_as_list=False):\n",
        "  sent_tokenized = word_tokenize(sent)\n",
        "  ret = [w for w in sent_tokenized if not w.lower() in stop_words]\n",
        "  if return_as_list:\n",
        "    return ret\n",
        "  else:\n",
        "    return ' '.join(ret)"
      ]
    },
    {
      "cell_type": "code",
      "execution_count": null,
      "metadata": {
        "id": "TqqgWCR8st1d",
        "outputId": "bebef3ee-0210-431f-ad56-1c4e5dfb19f6",
        "colab": {
          "base_uri": "https://localhost:8080/"
        }
      },
      "outputs": [
        {
          "output_type": "stream",
          "name": "stdout",
          "text": [
            "Original text: WESTERN MINING TO OPEN NEW GOLD MINE IN AUSTRALIA \n",
            "Filtered text: WESTERN MINING OPEN NEW GOLD MINE AUSTRALIA\n"
          ]
        }
      ],
      "source": [
        "print(f'Original text: {reuters_sample[0:50]}')\n",
        "print(f'Filtered text: {filter_stop_words(reuters_sample[0:50])}')"
      ]
    },
    {
      "cell_type": "markdown",
      "metadata": {
        "id": "aDu9X5Wxst1d"
      },
      "source": [
        "Let's now define a more generic clean text function.\n",
        "What else should a text be cleaned for? For example, 'constitutes' can be changed to 'constitute', since the exact form of a verb is not as useful for semantic text processing tasks.\n",
        "\n",
        "Consider the following text:"
      ]
    },
    {
      "cell_type": "code",
      "execution_count": null,
      "metadata": {
        "id": "mAD_Y66tst1d"
      },
      "outputs": [],
      "source": [
        "example_text = \"\"\"Lorem Ipsum is simply dummy text of the printing and typesetting industry. \\\n",
        "Lorem Ipsum constitutes the industry's standard dummy text ever since the 1500s, when an unknown \\\n",
        "printer took a galley of type and scrambled it to make a type specimen book. It has survived not \\\n",
        "only five centuries, but also the leap into electronic typesetting, remaining essentially unchanged. \\\n",
        "It was popularised in the 1960s with the release of Letraset sheets containing Lorem Ipsum passages, \\\n",
        "and more recently with desktop publishing software like Aldus PageMaker including versions of Lorem Ipsum.\"\"\""
      ]
    },
    {
      "cell_type": "code",
      "execution_count": null,
      "metadata": {
        "id": "mzqkGowtst1e"
      },
      "outputs": [],
      "source": [
        "def clean_text1(text):\n",
        "  text = contractions.fix(text) # Fix contractions\n",
        "  text = text.lower() # lowercase the text\n",
        "  text = text.replace('\\n', ' ') # replace new line characters with whitespace\n",
        "  text = re.sub(r\"[^\\w\\s']\", ' ', text) # Remove non-word characters, except apostroophes - to handle possessives correctly e.g \"John's\"\n",
        "  text = text.strip() # Remove extra whitespace\n",
        "\n",
        "  ## -- Tokenize, lemmatize, remove stopwords -- ##\n",
        "  doc = nlp(text)\n",
        "  tokens = [token.lemma_.strip() for token in doc if not token.is_stop and not token.is_punct] # Lemmatize and exclude stopwords\n",
        "  tokens = [token for token in tokens if token != ''] # Exclude empty strings\n",
        "  return tokens"
      ]
    },
    {
      "cell_type": "code",
      "execution_count": null,
      "metadata": {
        "id": "aP01tkOUst1e",
        "outputId": "ec9cc8c9-510d-4bc0-fd51-dece786f9a11",
        "colab": {
          "base_uri": "https://localhost:8080/"
        }
      },
      "outputs": [
        {
          "output_type": "stream",
          "name": "stdout",
          "text": [
            "['lorem', 'ipsum', 'simply', 'dummy', 'text', 'printing', 'typeset', 'industry', 'lorem', 'ipsum', 'constitute', 'industry', 'standard', 'dummy', 'text', '1500s', 'unknown', 'printer', 'take', 'galley', 'type', 'scramble', 'type', 'speciman', 'book', 'survive', 'century', 'leap', 'electronic', 'typesetting', 'remain', 'essentially', 'unchanged', 'popularise', '1960', 'release', 'letraset', 'sheet', 'contain', 'lorem', 'ipsum', 'passage', 'recently', 'desktop', 'publishing', 'software', 'like', 'aldus', 'pagemaker', 'include', 'version', 'lorem', 'ipsum']\n"
          ]
        }
      ],
      "source": [
        "print(clean_text1(example_text))"
      ]
    },
    {
      "cell_type": "markdown",
      "metadata": {
        "id": "hyQ3ploUst1e"
      },
      "source": [
        "### N-grams\n",
        "\n",
        "**Optional** This is a standalone section. You can skip it if you're confident in your understanding of n-grams."
      ]
    },
    {
      "cell_type": "markdown",
      "metadata": {
        "id": "oJvb8oqEst1e"
      },
      "source": [
        "N-grams are continuous sequences of n words from a given text. Types of n-grams include:\n",
        "* Unigrams - 1 word e.g ('God'). This can also be viewed as frequency distribution.\n",
        "* Bigrams - 2 words e.g ('Lord', 'God')\n",
        "* Trigrams - 3 words e.g ('Lord', 'God', 'said')\n",
        "\n",
        "Consider the below sentence and try to identify the top 3 n-grams by frequency, for n = 2,3.\n",
        "Try to do this manually, i.e. in your head or using pen and paper. You just have to write the pairs of occurences for words (or triplets for 3-grams etc) and count their frequency."
      ]
    },
    {
      "cell_type": "code",
      "execution_count": null,
      "metadata": {
        "id": "uq7Mow9Mst1e"
      },
      "outputs": [],
      "source": [
        "example_sentence = '''A cat jumped over the bed.\n",
        "The cat jumped over the bed quickly.\n",
        "The cat jumped over the fence.\n",
        "The dog chased the cat.\n",
        "The dog chased a squirrel.\n",
        "The man chased the cat.'''"
      ]
    },
    {
      "cell_type": "markdown",
      "metadata": {
        "id": "qHTUbh-tst1e"
      },
      "source": [
        "Now implement code to compute ngrams programmatically - you can look at the pre-lab notebook."
      ]
    },
    {
      "cell_type": "code",
      "execution_count": null,
      "metadata": {
        "id": "KtptY7azst1f"
      },
      "outputs": [],
      "source": [
        "# ngrams code\n",
        "\n",
        "# Your code here\n",
        "\n",
        "# def ngrams(tokens, n):\n",
        "  # TODO\n",
        "\n",
        "# def ngram_freq(text, n):\n",
        "  # TODO"
      ]
    },
    {
      "cell_type": "code",
      "execution_count": null,
      "metadata": {
        "id": "tXSa0c0Gst1f",
        "outputId": "adac8158-1597-4fee-a171-a9182675ee5b"
      },
      "outputs": [
        {
          "data": {
            "text/plain": [
              "[(('cat', 'jump'), 3),\n",
              " (('jump', 'bed'), 2),\n",
              " (('dog', 'chase'), 2),\n",
              " (('chase', 'cat'), 2),\n",
              " (('bed', 'cat'), 1),\n",
              " (('bed', 'quickly'), 1),\n",
              " (('quickly', 'cat'), 1),\n",
              " (('jump', 'fence'), 1),\n",
              " (('fence', 'dog'), 1),\n",
              " (('cat', 'dog'), 1),\n",
              " (('chase', 'squirrel'), 1),\n",
              " (('squirrel', 'man'), 1),\n",
              " (('man', 'chase'), 1)]"
            ]
          },
          "execution_count": 15,
          "metadata": {},
          "output_type": "execute_result"
        }
      ],
      "source": [
        "ngram_freq(filter_stop_words(example_sentence),2)"
      ]
    },
    {
      "cell_type": "code",
      "execution_count": null,
      "metadata": {
        "id": "LA3zBhRBst1f",
        "outputId": "de50e1de-877d-4d8c-e9f7-068205375cf7"
      },
      "outputs": [
        {
          "data": {
            "text/plain": [
              "[(('cat', 'jump', 'bed'), 2),\n",
              " (('jump', 'bed', 'cat'), 1),\n",
              " (('bed', 'cat', 'jump'), 1),\n",
              " (('jump', 'bed', 'quickly'), 1),\n",
              " (('bed', 'quickly', 'cat'), 1),\n",
              " (('quickly', 'cat', 'jump'), 1),\n",
              " (('cat', 'jump', 'fence'), 1),\n",
              " (('jump', 'fence', 'dog'), 1),\n",
              " (('fence', 'dog', 'chase'), 1),\n",
              " (('dog', 'chase', 'cat'), 1),\n",
              " (('chase', 'cat', 'dog'), 1),\n",
              " (('cat', 'dog', 'chase'), 1),\n",
              " (('dog', 'chase', 'squirrel'), 1),\n",
              " (('chase', 'squirrel', 'man'), 1),\n",
              " (('squirrel', 'man', 'chase'), 1),\n",
              " (('man', 'chase', 'cat'), 1)]"
            ]
          },
          "execution_count": 16,
          "metadata": {},
          "output_type": "execute_result"
        }
      ],
      "source": [
        "ngram_freq(filter_stop_words(example_sentence),3)"
      ]
    },
    {
      "cell_type": "code",
      "execution_count": null,
      "metadata": {
        "id": "5XmA4Abust1f",
        "outputId": "733afd4c-dd30-4472-b636-1b5acc72dbd4"
      },
      "outputs": [
        {
          "data": {
            "text/plain": [
              "[(('Cape', 'Spencer'), 6),\n",
              " (('000', 'ton'), 6),\n",
              " (('`', '`'), 5),\n",
              " (('GOLD', 'WARRANTS'), 4),\n",
              " (('April', '30'), 4),\n",
              " (('100', 'gramme'), 4),\n",
              " (('gold', 'price'), 4),\n",
              " (('ton', 'gold'), 4),\n",
              " (('gold', 'bear'), 4),\n",
              " (('bear', 'deposit'), 4)]"
            ]
          },
          "execution_count": 17,
          "metadata": {},
          "output_type": "execute_result"
        }
      ],
      "source": [
        "ngram_freq(filter_stop_words(reuters_sample), 2)[0:10]"
      ]
    },
    {
      "cell_type": "markdown",
      "metadata": {
        "id": "Q4OzoFP3st1f"
      },
      "source": [
        "The above hopefully makes some sense and it's what one should expect (this is a limited domain with a simple stop word filtration, so the results won't be perfect!)."
      ]
    },
    {
      "cell_type": "markdown",
      "metadata": {
        "id": "LRWYyDcrst1f"
      },
      "source": [
        "## Sentence Segmentation\n",
        "Sentence segmentation invlolves the identification of of sentence boundaries between words, and dividing the text into individual sentences based on the established boundaries.\n",
        "\n",
        "This can be done by using the following methods:\n",
        "* A vivid indication of the sentence end such as '?' or '!'\n",
        "* Using an unclear indication such as the period (.) - This may have several other uses such as abbreviations. For example, when abbrevition Mr.\n",
        "\n",
        "One way to think about sentence segmentation is that it is tokenization at the sentence level, where the tokens are sentences as opposed to words like we saw earlier during the pre-lab. The machine can learn to know the difference between a sentence end and an abbreviation.\n",
        "\n",
        "Sentence segmentation can be important in certain tasks such as machine translation and text summarization.\n",
        "\n",
        "The two popular approaches to sentence segmentation are rule-based and machine learning-based sentence segmentation. In this lab, we shall look at rule-based sentence segmentation using the default rules. Using spaCy, one could add a custom rule to spaCy's nlp pipeline.\n",
        "\n",
        "To demonstrate the above, we return to the Gutenberg corpus, familiar from the pre-lab notebooks."
      ]
    },
    {
      "cell_type": "code",
      "execution_count": null,
      "metadata": {
        "colab": {
          "base_uri": "https://localhost:8080/"
        },
        "id": "39vBjVOL5BO-",
        "outputId": "ced67831-1282-42cd-bb20-df5b903044a0"
      },
      "outputs": [
        {
          "name": "stdout",
          "output_type": "stream",
          "text": [
            "The Great Gatsby:\n",
            "I    In my younger and more vulnerable years my father gave me some advice  that I’ve been turning over in my mind ever since.    “Whenever you feel like criticizing anyone,” he told me, “just  remember that all the people in this world haven’t had the advantages  that you’ve had.”    He didn’t say any more, but we’ve always been unusually communicative  in a reserved way, and I understood that he meant a great deal more  than that. In consequence, I’m inclined to reserve all judgements, a  habi\n",
            "====================================================================================================\n",
            "Adventures of Huckleberry Finn:\n",
            "CHAPTER I.      You don’t know about me without you have read a book by the name of The  Adventures of Tom Sawyer; but that ain’t no matter. That book was made  by Mr. Mark Twain, and he told the truth, mainly. There was things  which he stretched, but mainly he told the truth. That is nothing. I  never seen anybody but lied one time or another, without it was Aunt  Polly, or the widow, or maybe Mary. Aunt Polly—Tom’s Aunt Polly, she  is—and Mary, and the Widow Douglas is all told about in that \n",
            "====================================================================================================\n",
            "The Adventures of Sherlock Holmes:\n",
            "A SCANDAL IN BOHEMIA      I.    To Sherlock Holmes she is always _the_ woman. I have seldom heard him  mention her under any other name. In his eyes she eclipses and  predominates the whole of her sex. It was not that he felt any emotion  akin to love for Irene Adler. All emotions, and that one particularly,  were abhorrent to his cold, precise but admirably balanced mind. He  was, I take it, the most perfect reasoning and observing machine that  the world has seen, but as a lover he would have \n",
            "====================================================================================================\n"
          ]
        }
      ],
      "source": [
        "# Run without making changes\n",
        "def request_gutenberg(url):\n",
        "\n",
        "  # Make a request to the url\n",
        "  response = requests.get(url)\n",
        "\n",
        "  # check if the request was successful\n",
        "  if response.status_code == 200:\n",
        "    book = response.text\n",
        "\n",
        "  else:\n",
        "    print(f\"Failed to retrieve the text version. Status code: {response.status_code}\")\n",
        "\n",
        "  # remove unwanted new line and tab characters from the text, replacing with whitespace\n",
        "  unwanted_chars = [\"\\n\", \"\\r\", \"\\d\", \"\\t\"]\n",
        "  for char in unwanted_chars:\n",
        "      book = book.replace(char, \" \")\n",
        "\n",
        "  return book\n",
        "\n",
        "# URLs of the books to be used in this lab\n",
        "g_gatsby_url = \"https://www.gutenberg.org/cache/epub/64317/pg64317.txt\"\n",
        "huckleberry_finn_url = \"https://www.gutenberg.org/cache/epub/76/pg76.txt\"\n",
        "sherlock_holmes_url = \"https://www.gutenberg.org/files/1661/1661-0.txt\"\n",
        "\n",
        "# Make requests for each book\n",
        "g_gatsby = request_gutenberg(g_gatsby_url)[1494:277912] # Remove introduction and footnotes\n",
        "h_berry = request_gutenberg(huckleberry_finn_url)[9528:-18862]\n",
        "s_holmes = request_gutenberg(sherlock_holmes_url)[1508:-18859]\n",
        "\n",
        "books = {\n",
        "    \"The Great Gatsby\": g_gatsby,\n",
        "    \"Adventures of Huckleberry Finn\": h_berry,\n",
        "    \"The Adventures of Sherlock Holmes\": s_holmes\n",
        "    }\n",
        "\n",
        "# Preview\n",
        "for key, val in books.items():\n",
        "  print(f\"{key}:\")\n",
        "  print(val[:500])\n",
        "  print(\"=\"*100)"
      ]
    },
    {
      "cell_type": "code",
      "execution_count": null,
      "metadata": {
        "colab": {
          "base_uri": "https://localhost:8080/",
          "height": 69
        },
        "id": "01eWw8raKFlB",
        "outputId": "23f8de1a-10e1-4cc6-d6a1-05ec3403eac8"
      },
      "outputs": [
        {
          "data": {
            "text/plain": [
              "'A SCANDAL IN BOHEMIA      I.    To Sherlock Holmes she is always _the_ woman. I have seldom heard him  mention her under any other name. In his eyes she eclipses and  predominates the whole of her sex. It was not that he felt any emotion  akin to love for Irene Adler. All emotions, and that one particularly,  were abhorrent to his cold, precise but admirably balanced mind. He  was, I take it, the most perfect reasoning and observing machine that  the world has seen, but as a lover he would have '"
            ]
          },
          "execution_count": 19,
          "metadata": {},
          "output_type": "execute_result"
        }
      ],
      "source": [
        "def fix_encoding(text):\n",
        "    # Encode the incorrectly decoded text back to bytes\n",
        "    bytes_text = text.encode('latin1')\n",
        "    # Decode the bytes using the correct encoding (UTF-8)\n",
        "    corrected_text = bytes_text.decode('utf-8')\n",
        "    return corrected_text\n",
        "\n",
        "# Fix encoding of sherlock holmes\n",
        "s_holmes = fix_encoding(s_holmes)\n",
        "s_holmes[:500]"
      ]
    },
    {
      "cell_type": "code",
      "execution_count": null,
      "metadata": {
        "id": "jVfHAqeB5L4Z"
      },
      "outputs": [],
      "source": [
        "# Get the end of the first chapter for both the Adventures of Sherlock Holmes and Adventures of Huckleberry Finn\n",
        "s_holmes_chap_1_end = s_holmes.index('II')\n",
        "h_berry_chap_1_end = h_berry.index('CHAPTER II')"
      ]
    },
    {
      "cell_type": "markdown",
      "metadata": {
        "id": "293WJf084k7r"
      },
      "source": [
        "### Rule-based Sentence segmentation\n",
        "In the code cells below, we shall segment sentences using nltk and spacy, spaCy's pre-trained models and etymological rules accurately identify sentence boundaries by using cues such as punctuation, capitalization, and other language-specific indicators.. How many sentences do we arrive at using this method?"
      ]
    },
    {
      "cell_type": "code",
      "execution_count": null,
      "metadata": {
        "colab": {
          "base_uri": "https://localhost:8080/"
        },
        "id": "HS9tmhnf4jYd",
        "outputId": "2b03ca7b-d74b-4803-af34-62431ae4ea00"
      },
      "outputs": [
        {
          "name": "stdout",
          "output_type": "stream",
          "text": [
            "Using NLTK:\n",
            "['You don’t know about me without you have read a book by the name of The  Adventures of Tom Sawyer; but that ain’t no matter.', 'That book was made  by Mr. Mark Twain, and he told the truth, mainly.', 'There was things  which he stretched, but mainly he told the truth.', 'That is nothing.', 'I  never seen anybody but lied one time or another, without it was Aunt  Polly, or the widow, or maybe Mary.', 'Aunt Polly—Tom’s Aunt Polly, she  is—and Mary, and the Widow Douglas is all told about in that book,  which is mostly a true book, with some stretchers, as I said before.', 'Now the way that the book winds up is this: Tom and me found the money  that the robbers hid in the cave, and it made us rich.', 'We got six  thousand dollars apiece—all gold.', 'It was an awful sight of money when  it was piled up.', 'Well, Judge Thatcher he took it and put it out at  interest, and it fetched us a dollar a day apiece all the year  round—more than a body could tell what to do with.', 'The Widow Douglas  she took me for her son, and allowed she would sivilize me; but it was  rough living in the house all the time, considering how dismal regular  and decent the widow was in all her ways; and so when I couldn’t stand  it no longer I lit out.', 'I got into my old rags and my sugar-hogshead  again, and was free and satisfied.', 'But Tom Sawyer he hunted me up and  said he was going to start a band of robbers, and I might join if I  would go back to the widow and be respectable.', 'So I went back.', 'The widow she cried over me, and called me a poor lost lamb, and she  called me a lot of other names, too, but she never meant no harm by it.']\n",
            "Number of sentences: 67\n",
            "\n",
            "Using Spacy:\n",
            "['You don’t know about me without you have read a book by the name of The  Adventures of Tom Sawyer; but that ain’t no matter.', 'That book was made  by Mr. Mark Twain, and he told the truth, mainly.', 'There was things  which he stretched, but mainly he told the truth.', 'That is nothing.', 'I  never seen anybody but lied one time or another, without it was Aunt  Polly, or the widow, or maybe Mary.', 'Aunt Polly—Tom’s Aunt Polly, she  is—and Mary, and the Widow Douglas is all told about in that book,  which is mostly a true book, with some stretchers, as I said before.    ', 'Now the way that the book winds up is this: Tom and me found the money  that the robbers hid in the cave, and it made us rich.', 'We got six  thousand dollars apiece—all gold.', 'It was an awful sight of money when  it was piled up.', 'Well, Judge Thatcher he took it and put it out at  interest, and it fetched us a dollar a day apiece all the year  round—more than a body could tell what to do with.', 'The Widow Douglas  she took me for her son, and allowed she would sivilize me; but it was  rough living in the house all the time, considering how dismal regular  and decent the widow was in all her ways; and so when I couldn’t stand  it no longer I lit out.', 'I got into my old rags and my sugar-hogshead  again, and was free and satisfied.', 'But Tom Sawyer he hunted me up and  said he was going to start a band of robbers, and I might join if I  would go back to the widow and be respectable.', 'So I went back.    ', 'The widow she cried over me, and called me a poor lost lamb, and she  called me a lot of other names, too, but she never meant no harm by it.  ']\n",
            "Number of sentences: 68\n"
          ]
        }
      ],
      "source": [
        "# using the first chapter of 'Adventures of Huckleberry Finn'\n",
        "h_berry_chap_1 = h_berry[16:h_berry_chap_1_end]\n",
        "\n",
        "# Using NLTK\n",
        "h_berry_sents_nltk = nltk.sent_tokenize(h_berry_chap_1)\n",
        "print(\"Using NLTK:\")\n",
        "print(h_berry_sents_nltk[:15])\n",
        "print(f\"Number of sentences: {len(h_berry_sents_nltk)}\")\n",
        "\n",
        "# Using spacy\n",
        "doc = nlp(h_berry_chap_1)\n",
        "\n",
        "h_berry_sents_spacy = [sent.text for sent in doc.sents]\n",
        "print(\"\\nUsing Spacy:\")\n",
        "print(h_berry_sents_spacy[:15])\n",
        "print(f\"Number of sentences: {len(h_berry_sents_spacy)}\")"
      ]
    },
    {
      "cell_type": "code",
      "execution_count": null,
      "metadata": {
        "id": "wMzz0Wmt8__v"
      },
      "outputs": [],
      "source": [
        "# Get the first chapter of The Adventures of Sherlock Holmes and perform the sentence segmentation\n",
        "s_holmes_chap_1 = s_holmes[32:s_holmes_chap_1_end]\n",
        "\n",
        "# Your code here\n"
      ]
    },
    {
      "cell_type": "markdown",
      "metadata": {
        "id": "OVLtyWH3Ejm0"
      },
      "source": [
        "## Word Embeddings\n",
        "The discussion on word embeddings began with an exploration of Bag of Words (BoW) techniques like CountVectorizer and Term Frequency-Inverse Document Frequency (TF-IDF) in the pre-lab. Now, we delve into other methodologies for creating word embeddings.\n",
        "\n",
        "### Word2Vec\n",
        "Word2Vec, devised by Google researchers, introduces a neural approach to generating word embeddings. This model processes extensive text corpora and produces high-quality word vectors. It boasts the capability to analyze word contexts, thereby capturing semantic relationships as it maps words to high-dimensional vectors.\n",
        "\n",
        "#### Continuous Bag of Words (CBOW)\n",
        "CBOW, an unsupervised learning method, aims to predict a target word by considering its context—surrounding words within a specified window. It predicts the central word within the window and represents embeddings in a continuous vector space.\n",
        "\n",
        "In contrast to BoW, which disregards word context and thus fails to capture complete text meaning, CBOW's contextual awareness enhances its ability to capture textual semantics.\n",
        "\n",
        "#### Skip-Gram\n",
        "The Skip-Gram model seeks distributed word representations within a continuous vector space. Its objective is to predict context words (those adjacent to a target word) given the target word itself. This differs from CBOW, which predicts the target word from its surrounding context. Research suggests that Skip-Gram yields embeddings with richer semantic content compared to other methods.\n",
        "\n",
        "The choice between CBOW and Skip-Gram models hinges on data characteristics and task objectives. CBOW is favored with limited training data, prioritizing syntactic nuances. Conversely, Skip-Gram excels in capturing semantic associations and effectively representing infrequent words.\n",
        "\n",
        "The decision to train Word2Vec models using sentences or tokens depends on desired granularity in word embeddings and text data structure. Using entire sentences focuses on contextual information within sentences, beneficial for tasks like sentiment analysis. Employing individual tokens considers broader semantic relationships across the corpus, ideal for tasks like semantic similarity.\n",
        "\n",
        "Given the goal of understanding corpora broadly, using word tokens is preferred. The text preprocessing steps from the pre-lab will be utilized for this purpose.\n"
      ]
    },
    {
      "cell_type": "code",
      "execution_count": null,
      "metadata": {
        "id": "kuoyMZtkMuXx"
      },
      "outputs": [],
      "source": [
        "# Load dependencies\n",
        "from gensim.models import Word2Vec\n",
        "from nltk.tokenize import word_tokenize\n",
        "import warnings\n",
        "\n",
        "# Disable warnings\n",
        "warnings.filterwarnings(action='ignore', category=UserWarning, module='gensim')"
      ]
    },
    {
      "cell_type": "markdown",
      "metadata": {
        "id": "JbodzuJWst1h"
      },
      "source": [
        "**Attention!!** For the following to run, you need to have run the `clean_text1` function in the \"Text Cleaning\" section from before."
      ]
    },
    {
      "cell_type": "code",
      "execution_count": null,
      "metadata": {
        "colab": {
          "base_uri": "https://localhost:8080/"
        },
        "id": "ZAGfDo-cjS0_",
        "outputId": "a22dfe39-f11b-467a-8269-0e3ca0c1aaa9"
      },
      "outputs": [
        {
          "name": "stdout",
          "output_type": "stream",
          "text": [
            "Number of distinct tokens: 4505\n"
          ]
        }
      ],
      "source": [
        "# Clean the text of the Great Gatsby\n",
        "gatsby_tokens = clean_text1(g_gatsby)\n",
        "gatsby_tokens = [token for token in gatsby_tokens if token != ''] # Exclude empty strings\n",
        "\n",
        "# Get the set of items\n",
        "n_gatsby_tokens = len(list(set(gatsby_tokens)))\n",
        "print(f\"Number of distinct tokens: {n_gatsby_tokens}\")"
      ]
    },
    {
      "cell_type": "code",
      "execution_count": null,
      "metadata": {
        "id": "y9uMzrMWiOzv"
      },
      "outputs": [],
      "source": [
        "# Clean the text of The Adventures of Huckleberry Finn, getting the tokens and the number of distinct tokens\n",
        "\n",
        "# Your code here"
      ]
    },
    {
      "cell_type": "code",
      "execution_count": null,
      "metadata": {
        "id": "1M7dqbW30MiY"
      },
      "outputs": [],
      "source": [
        "import multiprocessing\n",
        "\n",
        "# Count the number of cores in the cpu\n",
        "cores = multiprocessing.cpu_count()"
      ]
    },
    {
      "cell_type": "code",
      "execution_count": null,
      "metadata": {
        "colab": {
          "base_uri": "https://localhost:8080/"
        },
        "id": "fQTCkZgthac9",
        "outputId": "ad9310bb-7b4f-4222-f27d-cf7871151bfa"
      },
      "outputs": [
        {
          "name": "stdout",
          "output_type": "stream",
          "text": [
            "CBOW Vector representation of gatsby: [-8.86559725e-01 -1.81378528e-01  4.39616174e-01  4.64231253e-01\n",
            "  2.05618832e-02 -5.57845533e-01 -5.56949377e-01  4.45696414e-01\n",
            "  5.03326833e-01 -1.13711345e+00  9.85719636e-02  3.37011695e-01\n",
            "  2.40804311e-02  6.06875420e-01  6.55139387e-02 -1.01007462e-01\n",
            " -3.10799092e-01  6.86958015e-01 -1.73614338e-01 -6.03697658e-01\n",
            "  7.09214330e-01  6.79432452e-02  9.65071499e-01  2.13001981e-01\n",
            "  8.58468711e-01 -2.65913308e-01 -8.63000825e-02  5.98906279e-02\n",
            " -8.99318159e-01  1.71200007e-01 -1.76569656e-01 -2.75519639e-01\n",
            "  8.16894054e-01 -4.45926994e-01  2.40044102e-01  1.61812589e-01\n",
            "  3.16141057e-04  6.72519729e-02 -8.06340426e-02 -1.27146160e-02\n",
            "  6.94722533e-01  6.19589031e-01 -3.11790198e-01 -3.15368891e-01\n",
            "  5.91712177e-01  1.18288195e+00 -7.41057158e-01  5.85344613e-01\n",
            "  8.42276037e-01  1.87176481e-01 -3.61720979e-01  3.71268749e-01\n",
            " -4.38868970e-01 -2.42873579e-02  2.52481788e-01  9.66386646e-02\n",
            " -2.50279129e-01 -2.17346281e-01 -3.55394334e-01  9.85514522e-02\n",
            " -6.61420524e-02  1.00306249e+00 -7.07500502e-02 -7.54283011e-01\n",
            "  3.59563291e-01  6.00495934e-01 -5.24900444e-02  4.31463540e-01\n",
            "  1.89254850e-01  1.24238586e+00 -2.74479464e-02  8.24032962e-01\n",
            " -2.08198190e-01 -2.04830635e-02  7.25702167e-01  2.77937979e-01\n",
            "  6.90065995e-02  4.25375104e-02 -1.24553695e-01 -2.07226306e-01\n",
            " -4.74621534e-01 -2.35069897e-02  2.23893985e-01  2.24414349e-01\n",
            " -6.88857615e-01 -1.69822145e-02  8.91294599e-01 -6.74529731e-01\n",
            " -4.33352679e-01  1.55040026e-01 -5.03177941e-01 -2.92092383e-01\n",
            " -1.12130806e-01  5.93895875e-02  8.27635944e-01  4.28757370e-01\n",
            " -5.18016458e-01 -9.40014124e-01 -6.90982401e-01  1.17055416e-01]\n"
          ]
        }
      ],
      "source": [
        "# CBOW model of the great gatsby text\n",
        "cbow_gatsby_model = Word2Vec(sentences=[gatsby_tokens],\n",
        "                             vector_size=100,  # Dimensionality of the word vectors\n",
        "                             window=5,         # Maximum distance between the current and predicted word within a sentence\n",
        "                             sg=0,             # CBOW model (0 for CBOW, 1 for Skip-Gram)\n",
        "                             min_count=10,      # Ignores all words with a total frequency lower than this\n",
        "                             workers=cores-1)       # cpu cores\n",
        "\n",
        "# Training\n",
        "cbow_gatsby_model.train([gatsby_tokens], total_examples=1, epochs=100)\n",
        "\n",
        "# Vector representation of gatsby\n",
        "word = 'gatsby'\n",
        "gatsby_vector_rep = cbow_gatsby_model.wv[word]\n",
        "print(f\"CBOW Vector representation of {word}: {gatsby_vector_rep}\")"
      ]
    },
    {
      "cell_type": "code",
      "execution_count": null,
      "metadata": {
        "colab": {
          "base_uri": "https://localhost:8080/"
        },
        "id": "8KI0AGKUZ_kK",
        "outputId": "499b0626-7674-4e42-959a-b07347328bba"
      },
      "outputs": [
        {
          "name": "stdout",
          "output_type": "stream",
          "text": [
            "Skipgram Vector representation of gatsby: \n",
            "[-0.18024732 -0.09232956  0.14114104  0.12256143 -0.02509932 -0.306543\n",
            " -0.22930494  0.24378636 -0.02201081 -0.22165959 -0.12634744 -0.06986495\n",
            " -0.16867855  0.09658261  0.32023928 -0.05351266  0.19858286  0.02122142\n",
            "  0.15911448 -0.2352864   0.12479225  0.00833586  0.28793105 -0.16111344\n",
            "  0.01476592 -0.0874582  -0.16370517 -0.14192711 -0.50962186  0.02396614\n",
            "  0.23980975 -0.03289191  0.04989801 -0.12883507 -0.20222813  0.33914214\n",
            "  0.07537403 -0.03964567  0.04666974  0.02001024  0.08658332  0.06286446\n",
            " -0.0383154  -0.08729084  0.0425876   0.12443601 -0.03918268  0.14614365\n",
            "  0.2214018  -0.05582196 -0.15995441  0.30738533 -0.04310428  0.01073627\n",
            " -0.14284793  0.19741325 -0.03511769 -0.12847136 -0.17367467  0.07212719\n",
            "  0.12195329  0.02406472 -0.13553993 -0.14818038 -0.06976158  0.3482297\n",
            " -0.06981976  0.24920073  0.02648384  0.2728288  -0.14204346 -0.12543984\n",
            " -0.11373128 -0.12506995  0.22557789  0.21130554 -0.26010925 -0.10203975\n",
            " -0.03343182 -0.05961495  0.06290708 -0.07642674 -0.16245997  0.21059988\n",
            " -0.21339901  0.12576988  0.23127721 -0.17548628  0.1087124   0.1505443\n",
            " -0.17865051 -0.00185846  0.19498274 -0.00293331  0.46262857  0.21790738\n",
            " -0.09064026 -0.26215246  0.07254191  0.03670812]\n"
          ]
        }
      ],
      "source": [
        "# Skipgram model of the Great Gatsby text\n",
        "skipgram_gatsby_model = Word2Vec(sentences=[gatsby_tokens],\n",
        "                          vector_size=100,  # Dimensionality of the word vectors\n",
        "                          window=5,         # Maximum distance between the current and predicted word within a sentence\n",
        "                          sg=1,             # Skip-Gram model (1 for Skip-Gram, 0 for CBOW)\n",
        "                          min_count=10,      # Ignores all words with a total frequency lower than this\n",
        "                          workers=cores-1)       # cpu cores\n",
        "\n",
        "# Training\n",
        "skipgram_gatsby_model.train([gatsby_tokens], total_examples=1, epochs=100)\n",
        "\n",
        "# Vector representation of gatsby\n",
        "word = 'gatsby'\n",
        "gatsby_vector_rep = skipgram_gatsby_model.wv[word]\n",
        "print(f\"Skipgram Vector representation of {word}: \\n{gatsby_vector_rep}\")"
      ]
    },
    {
      "cell_type": "code",
      "execution_count": null,
      "metadata": {
        "id": "3Gn-FIbciZHM"
      },
      "outputs": [],
      "source": [
        "# Create the Skipgram model of The Adventures of Huckleberry Finn\n",
        "\n",
        "# Vector representation of huck\n"
      ]
    },
    {
      "cell_type": "markdown",
      "metadata": {
        "id": "vJBCSt3w7uaP"
      },
      "source": [
        "#### Exploring the model (Optional)\n",
        "\n",
        "In the code cells, we shall explore the model to perform some simple character analysis of the books The Great Gatsby and Advenures of Huckleberry Finn, that you can confirm later on after the lab as your homework."
      ]
    },
    {
      "cell_type": "code",
      "execution_count": null,
      "metadata": {
        "colab": {
          "base_uri": "https://localhost:8080/"
        },
        "id": "Mw9xK-Fj7zYp",
        "outputId": "76a820ba-d035-48d0-ac63-6f246c7fca86"
      },
      "outputs": [
        {
          "name": "stdout",
          "output_type": "stream",
          "text": [
            "Character relationships based on cosine similarity:\n",
            "Similarity between gatsby and daisy: 0.3974\n",
            "Similarity between gatsby and tom: 0.3467\n",
            "Similarity between daisy and tom: 0.5306\n"
          ]
        }
      ],
      "source": [
        "# Investigating the love triangle of the great gatsby\n",
        "# Investigate the relationships between the key characters\n",
        "gatsby_relationships = {\n",
        "    ('gatsby', 'daisy'): skipgram_gatsby_model.wv.similarity('gatsby', 'daisy'),\n",
        "    ('gatsby', 'tom'): skipgram_gatsby_model.wv.similarity('gatsby', 'tom'),\n",
        "    ('daisy', 'tom'): skipgram_gatsby_model.wv.similarity('daisy', 'tom'),\n",
        "}\n",
        "\n",
        "print(\"Character relationships based on cosine similarity:\")\n",
        "for (char1, char2), similarity in gatsby_relationships.items():\n",
        "    print(f\"Similarity between {char1} and {char2}: {similarity:.4f}\")"
      ]
    },
    {
      "cell_type": "code",
      "execution_count": null,
      "metadata": {
        "colab": {
          "base_uri": "https://localhost:8080/",
          "height": 564
        },
        "id": "NUPuJoUPU6ft",
        "outputId": "25bce599-1b33-4380-b42f-caed15c050d9"
      },
      "outputs": [
        {
          "data": {
            "image/png": "[encoded data removed]",
            "text/plain": [
              "<Figure size 800x600 with 1 Axes>"
            ]
          },
          "metadata": {},
          "output_type": "display_data"
        }
      ],
      "source": [
        "# Visualize the word vectors (optional)\n",
        "# You can use a dimensionality reduction technique like PCA or t-SNE to visualize the vectors\n",
        "from sklearn.decomposition import PCA\n",
        "import matplotlib.pyplot as plt\n",
        "\n",
        "gatsby_key_characters = ['gatsby', 'daisy', 'tom']\n",
        "\n",
        "# Get the vectors for the key characters\n",
        "vectors = [skipgram_gatsby_model.wv[char] for char in gatsby_key_characters if char in skipgram_gatsby_model.wv]\n",
        "\n",
        "# Perform PCA to reduce dimensions to 2D for visualization\n",
        "pca = PCA(n_components=2)\n",
        "reduced_vectors = pca.fit_transform(vectors)\n",
        "\n",
        "# Plot the vectors\n",
        "plt.figure(figsize=(8, 6))\n",
        "plt.scatter(reduced_vectors[:, 0], reduced_vectors[:, 1], c='blue')\n",
        "for i, char in enumerate(gatsby_key_characters):\n",
        "    if char in skipgram_gatsby_model.wv:\n",
        "        plt.annotate(char, (reduced_vectors[i, 0], reduced_vectors[i, 1]))\n",
        "plt.title('2D PCA of Character Embeddings')\n",
        "plt.xlabel('PCA Component 1')\n",
        "plt.ylabel('PCA Component 2')\n",
        "plt.grid(True)\n",
        "plt.show()"
      ]
    },
    {
      "cell_type": "code",
      "execution_count": null,
      "metadata": {
        "id": "DOKI0Rh0DNXt"
      },
      "outputs": [],
      "source": [
        "# Get Similaries using The Adventures of Huckleberry Finn (Optional)\n",
        "\n",
        "\n",
        "# Define key characters\n",
        "huck_key_characters = ['huck', 'jim', 'pap', 'duke']\n",
        "\n",
        "\n",
        "# Investigate the relationships between the characters\n",
        "\n",
        "# Your code here\n",
        "\n",
        "# Print the cosine similarities of the relationships in Adventures iof Huckleberry Finn\n",
        "\n",
        "# Your code here"
      ]
    },
    {
      "cell_type": "markdown",
      "metadata": {
        "id": "86S07P5ICIVg"
      },
      "source": [
        "## Parts of Speech Tagging (POS)\n",
        "\n",
        "In the code cells below, we shall perform simple POS.\n",
        "In this section, we shall use sentences from 'Adventures of Huckleberry Finn' and 'The Adventures of Sherlock Holmes'."
      ]
    },
    {
      "cell_type": "code",
      "execution_count": null,
      "metadata": {
        "id": "Y86YfUTVE_I5"
      },
      "outputs": [],
      "source": [
        "from spacy import displacy # import spaCy's visualizer"
      ]
    },
    {
      "cell_type": "code",
      "execution_count": null,
      "metadata": {
        "colab": {
          "base_uri": "https://localhost:8080/"
        },
        "id": "2hNp2Mvh8dfm",
        "outputId": "dd710660-d8c9-4ef7-87d1-2bba94113b49"
      },
      "outputs": [
        {
          "data": {
            "text/plain": [
              "{'You': ('PRON', 'pronoun'),\n",
              " 'do': ('AUX', 'auxiliary'),\n",
              " 'n’t': ('PART', 'particle'),\n",
              " 'know': ('VERB', 'verb'),\n",
              " 'about': ('ADP', 'adposition'),\n",
              " 'me': ('PRON', 'pronoun'),\n",
              " 'without': ('SCONJ', 'subordinating conjunction'),\n",
              " 'you': ('PRON', 'pronoun'),\n",
              " 'have': ('AUX', 'auxiliary'),\n",
              " 'read': ('VERB', 'verb'),\n",
              " 'a': ('DET', 'determiner'),\n",
              " 'book': ('NOUN', 'noun'),\n",
              " 'by': ('ADP', 'adposition'),\n",
              " 'the': ('DET', 'determiner'),\n",
              " 'name': ('NOUN', 'noun'),\n",
              " 'of': ('ADP', 'adposition'),\n",
              " 'The': ('DET', 'determiner'),\n",
              " ' ': ('SPACE', 'space'),\n",
              " 'Adventures': ('PROPN', 'proper noun'),\n",
              " 'Tom': ('PROPN', 'proper noun'),\n",
              " 'Sawyer': ('PROPN', 'proper noun'),\n",
              " ';': ('PUNCT', 'punctuation'),\n",
              " 'but': ('CCONJ', 'coordinating conjunction'),\n",
              " 'that': ('PRON', 'pronoun'),\n",
              " 'ai': ('VERB', 'verb'),\n",
              " 'no': ('ADV', 'adverb'),\n",
              " 'matter': ('NOUN', 'noun'),\n",
              " '.': ('PUNCT', 'punctuation'),\n",
              " 'That': ('PRON', 'pronoun'),\n",
              " 'was': ('AUX', 'auxiliary'),\n",
              " 'made': ('VERB', 'verb'),\n",
              " 'Mr.': ('PROPN', 'proper noun'),\n",
              " 'Mark': ('PROPN', 'proper noun'),\n",
              " 'Twain': ('PROPN', 'proper noun'),\n",
              " ',': ('PUNCT', 'punctuation'),\n",
              " 'and': ('CCONJ', 'coordinating conjunction'),\n",
              " 'he': ('PRON', 'pronoun'),\n",
              " 'told': ('VERB', 'verb'),\n",
              " 'truth': ('NOUN', 'noun'),\n",
              " 'mainly': ('ADV', 'adverb'),\n",
              " 'There': ('PRON', 'pronoun'),\n",
              " 'things': ('NOUN', 'noun'),\n",
              " 'which': ('PRON', 'pronoun'),\n",
              " 'stretched': ('VERB', 'verb'),\n",
              " 'is': ('AUX', 'auxiliary'),\n",
              " 'nothing': ('PRON', 'pronoun'),\n",
              " 'I': ('PRON', 'pronoun'),\n",
              " 'never': ('ADV', 'adverb'),\n",
              " 'seen': ('VERB', 'verb'),\n",
              " 'anybody': ('PRON', 'pronoun'),\n",
              " 'lied': ('VERB', 'verb'),\n",
              " 'one': ('NUM', 'numeral'),\n",
              " 'time': ('NOUN', 'noun'),\n",
              " 'or': ('CCONJ', 'coordinating conjunction'),\n",
              " 'another': ('PRON', 'pronoun'),\n",
              " 'it': ('PRON', 'pronoun'),\n",
              " 'Aunt': ('PROPN', 'proper noun'),\n",
              " 'Polly': ('PROPN', 'proper noun'),\n",
              " 'widow': ('NOUN', 'noun'),\n",
              " 'maybe': ('ADV', 'adverb'),\n",
              " 'Mary': ('PROPN', 'proper noun')}"
            ]
          },
          "execution_count": 35,
          "metadata": {},
          "output_type": "execute_result"
        }
      ],
      "source": [
        "# Get the first 5 sentences of Huckleberry Finn as the corpus\n",
        "h_berry_corpus = h_berry_sents_spacy[:5]\n",
        "\n",
        "# Join the sentences into a single text for SpaCy processing\n",
        "text = ' '.join(h_berry_corpus)\n",
        "\n",
        "# Process the text with SpaCy\n",
        "h_berry_doc = nlp(text)\n",
        "\n",
        "# Initialize an empty dictionary to store the POS tags\n",
        "h_berry_pos_tags = {}\n",
        "\n",
        "# Print POS tags for each token and store them in the dictionary\n",
        "for token in h_berry_doc:\n",
        "    h_berry_pos_tags[token.text] = (token.pos_,spacy.explain(token.pos_))\n",
        "\n",
        "h_berry_pos_tags"
      ]
    },
    {
      "cell_type": "code",
      "execution_count": null,
      "metadata": {
        "colab": {
          "base_uri": "https://localhost:8080/",
          "height": 440
        },
        "id": "YplOH_ipD3wk",
        "outputId": "48196f86-9b8c-495d-b397-df9ad5df6f1c"
      },
      "outputs": [
        {
          "data": {
            "text/html": [
              "<span class=\"tex2jax_ignore\"><svg xmlns=\"http://www.w3.org/2000/svg\" xmlns:xlink=\"http://www.w3.org/1999/xlink\" xml:lang=\"en\" id=\"d0fd0257a1394ff19ff672fd1b79b5e1-0\" class=\"displacy\" width=\"2150\" height=\"399.5\" direction=\"ltr\" style=\"max-width: none; height: 399.5px; color: #000000; background: #ffffff; font-family: Arial; direction: ltr\">\n",
              "<text class=\"displacy-token\" fill=\"currentColor\" text-anchor=\"middle\" y=\"309.5\">\n",
              "    <tspan class=\"displacy-word\" fill=\"currentColor\" x=\"50\">You</tspan>\n",
              "    <tspan class=\"displacy-tag\" dy=\"2em\" fill=\"currentColor\" x=\"50\">PRON</tspan>\n",
              "</text>\n",
              "\n",
              "<text class=\"displacy-token\" fill=\"currentColor\" text-anchor=\"middle\" y=\"309.5\">\n",
              "    <tspan class=\"displacy-word\" fill=\"currentColor\" x=\"225\">do</tspan>\n",
              "    <tspan class=\"displacy-tag\" dy=\"2em\" fill=\"currentColor\" x=\"225\">AUX</tspan>\n",
              "</text>\n",
              "\n",
              "<text class=\"displacy-token\" fill=\"currentColor\" text-anchor=\"middle\" y=\"309.5\">\n",
              "    <tspan class=\"displacy-word\" fill=\"currentColor\" x=\"400\">n’t</tspan>\n",
              "    <tspan class=\"displacy-tag\" dy=\"2em\" fill=\"currentColor\" x=\"400\">PART</tspan>\n",
              "</text>\n",
              "\n",
              "<text class=\"displacy-token\" fill=\"currentColor\" text-anchor=\"middle\" y=\"309.5\">\n",
              "    <tspan class=\"displacy-word\" fill=\"currentColor\" x=\"575\">know</tspan>\n",
              "    <tspan class=\"displacy-tag\" dy=\"2em\" fill=\"currentColor\" x=\"575\">VERB</tspan>\n",
              "</text>\n",
              "\n",
              "<text class=\"displacy-token\" fill=\"currentColor\" text-anchor=\"middle\" y=\"309.5\">\n",
              "    <tspan class=\"displacy-word\" fill=\"currentColor\" x=\"750\">about</tspan>\n",
              "    <tspan class=\"displacy-tag\" dy=\"2em\" fill=\"currentColor\" x=\"750\">ADP</tspan>\n",
              "</text>\n",
              "\n",
              "<text class=\"displacy-token\" fill=\"currentColor\" text-anchor=\"middle\" y=\"309.5\">\n",
              "    <tspan class=\"displacy-word\" fill=\"currentColor\" x=\"925\">me</tspan>\n",
              "    <tspan class=\"displacy-tag\" dy=\"2em\" fill=\"currentColor\" x=\"925\">PRON</tspan>\n",
              "</text>\n",
              "\n",
              "<text class=\"displacy-token\" fill=\"currentColor\" text-anchor=\"middle\" y=\"309.5\">\n",
              "    <tspan class=\"displacy-word\" fill=\"currentColor\" x=\"1100\">without</tspan>\n",
              "    <tspan class=\"displacy-tag\" dy=\"2em\" fill=\"currentColor\" x=\"1100\">ADP</tspan>\n",
              "</text>\n",
              "\n",
              "<text class=\"displacy-token\" fill=\"currentColor\" text-anchor=\"middle\" y=\"309.5\">\n",
              "    <tspan class=\"displacy-word\" fill=\"currentColor\" x=\"1275\">you</tspan>\n",
              "    <tspan class=\"displacy-tag\" dy=\"2em\" fill=\"currentColor\" x=\"1275\">PRON</tspan>\n",
              "</text>\n",
              "\n",
              "<text class=\"displacy-token\" fill=\"currentColor\" text-anchor=\"middle\" y=\"309.5\">\n",
              "    <tspan class=\"displacy-word\" fill=\"currentColor\" x=\"1450\">have</tspan>\n",
              "    <tspan class=\"displacy-tag\" dy=\"2em\" fill=\"currentColor\" x=\"1450\">AUX</tspan>\n",
              "</text>\n",
              "\n",
              "<text class=\"displacy-token\" fill=\"currentColor\" text-anchor=\"middle\" y=\"309.5\">\n",
              "    <tspan class=\"displacy-word\" fill=\"currentColor\" x=\"1625\">read</tspan>\n",
              "    <tspan class=\"displacy-tag\" dy=\"2em\" fill=\"currentColor\" x=\"1625\">VERB</tspan>\n",
              "</text>\n",
              "\n",
              "<text class=\"displacy-token\" fill=\"currentColor\" text-anchor=\"middle\" y=\"309.5\">\n",
              "    <tspan class=\"displacy-word\" fill=\"currentColor\" x=\"1800\">a</tspan>\n",
              "    <tspan class=\"displacy-tag\" dy=\"2em\" fill=\"currentColor\" x=\"1800\">DET</tspan>\n",
              "</text>\n",
              "\n",
              "<text class=\"displacy-token\" fill=\"currentColor\" text-anchor=\"middle\" y=\"309.5\">\n",
              "    <tspan class=\"displacy-word\" fill=\"currentColor\" x=\"1975\">book</tspan>\n",
              "    <tspan class=\"displacy-tag\" dy=\"2em\" fill=\"currentColor\" x=\"1975\">NOUN</tspan>\n",
              "</text>\n",
              "\n",
              "<g class=\"displacy-arrow\">\n",
              "    <path class=\"displacy-arc\" id=\"arrow-d0fd0257a1394ff19ff672fd1b79b5e1-0-0\" stroke-width=\"2px\" d=\"M70,264.5 C70,2.0 575.0,2.0 575.0,264.5\" fill=\"none\" stroke=\"currentColor\"/>\n",
              "    <text dy=\"1.25em\" style=\"font-size: 0.8em; letter-spacing: 1px\">\n",
              "        <textPath xlink:href=\"#arrow-d0fd0257a1394ff19ff672fd1b79b5e1-0-0\" class=\"displacy-label\" startOffset=\"50%\" side=\"left\" fill=\"currentColor\" text-anchor=\"middle\">nsubj</textPath>\n",
              "    </text>\n",
              "    <path class=\"displacy-arrowhead\" d=\"M70,266.5 L62,254.5 78,254.5\" fill=\"currentColor\"/>\n",
              "</g>\n",
              "\n",
              "<g class=\"displacy-arrow\">\n",
              "    <path class=\"displacy-arc\" id=\"arrow-d0fd0257a1394ff19ff672fd1b79b5e1-0-1\" stroke-width=\"2px\" d=\"M245,264.5 C245,89.5 570.0,89.5 570.0,264.5\" fill=\"none\" stroke=\"currentColor\"/>\n",
              "    <text dy=\"1.25em\" style=\"font-size: 0.8em; letter-spacing: 1px\">\n",
              "        <textPath xlink:href=\"#arrow-d0fd0257a1394ff19ff672fd1b79b5e1-0-1\" class=\"displacy-label\" startOffset=\"50%\" side=\"left\" fill=\"currentColor\" text-anchor=\"middle\">aux</textPath>\n",
              "    </text>\n",
              "    <path class=\"displacy-arrowhead\" d=\"M245,266.5 L237,254.5 253,254.5\" fill=\"currentColor\"/>\n",
              "</g>\n",
              "\n",
              "<g class=\"displacy-arrow\">\n",
              "    <path class=\"displacy-arc\" id=\"arrow-d0fd0257a1394ff19ff672fd1b79b5e1-0-2\" stroke-width=\"2px\" d=\"M420,264.5 C420,177.0 565.0,177.0 565.0,264.5\" fill=\"none\" stroke=\"currentColor\"/>\n",
              "    <text dy=\"1.25em\" style=\"font-size: 0.8em; letter-spacing: 1px\">\n",
              "        <textPath xlink:href=\"#arrow-d0fd0257a1394ff19ff672fd1b79b5e1-0-2\" class=\"displacy-label\" startOffset=\"50%\" side=\"left\" fill=\"currentColor\" text-anchor=\"middle\">neg</textPath>\n",
              "    </text>\n",
              "    <path class=\"displacy-arrowhead\" d=\"M420,266.5 L412,254.5 428,254.5\" fill=\"currentColor\"/>\n",
              "</g>\n",
              "\n",
              "<g class=\"displacy-arrow\">\n",
              "    <path class=\"displacy-arc\" id=\"arrow-d0fd0257a1394ff19ff672fd1b79b5e1-0-3\" stroke-width=\"2px\" d=\"M595,264.5 C595,177.0 740.0,177.0 740.0,264.5\" fill=\"none\" stroke=\"currentColor\"/>\n",
              "    <text dy=\"1.25em\" style=\"font-size: 0.8em; letter-spacing: 1px\">\n",
              "        <textPath xlink:href=\"#arrow-d0fd0257a1394ff19ff672fd1b79b5e1-0-3\" class=\"displacy-label\" startOffset=\"50%\" side=\"left\" fill=\"currentColor\" text-anchor=\"middle\">prep</textPath>\n",
              "    </text>\n",
              "    <path class=\"displacy-arrowhead\" d=\"M740.0,266.5 L748.0,254.5 732.0,254.5\" fill=\"currentColor\"/>\n",
              "</g>\n",
              "\n",
              "<g class=\"displacy-arrow\">\n",
              "    <path class=\"displacy-arc\" id=\"arrow-d0fd0257a1394ff19ff672fd1b79b5e1-0-4\" stroke-width=\"2px\" d=\"M770,264.5 C770,177.0 915.0,177.0 915.0,264.5\" fill=\"none\" stroke=\"currentColor\"/>\n",
              "    <text dy=\"1.25em\" style=\"font-size: 0.8em; letter-spacing: 1px\">\n",
              "        <textPath xlink:href=\"#arrow-d0fd0257a1394ff19ff672fd1b79b5e1-0-4\" class=\"displacy-label\" startOffset=\"50%\" side=\"left\" fill=\"currentColor\" text-anchor=\"middle\">pobj</textPath>\n",
              "    </text>\n",
              "    <path class=\"displacy-arrowhead\" d=\"M915.0,266.5 L923.0,254.5 907.0,254.5\" fill=\"currentColor\"/>\n",
              "</g>\n",
              "\n",
              "<g class=\"displacy-arrow\">\n",
              "    <path class=\"displacy-arc\" id=\"arrow-d0fd0257a1394ff19ff672fd1b79b5e1-0-5\" stroke-width=\"2px\" d=\"M595,264.5 C595,89.5 1095.0,89.5 1095.0,264.5\" fill=\"none\" stroke=\"currentColor\"/>\n",
              "    <text dy=\"1.25em\" style=\"font-size: 0.8em; letter-spacing: 1px\">\n",
              "        <textPath xlink:href=\"#arrow-d0fd0257a1394ff19ff672fd1b79b5e1-0-5\" class=\"displacy-label\" startOffset=\"50%\" side=\"left\" fill=\"currentColor\" text-anchor=\"middle\">prep</textPath>\n",
              "    </text>\n",
              "    <path class=\"displacy-arrowhead\" d=\"M1095.0,266.5 L1103.0,254.5 1087.0,254.5\" fill=\"currentColor\"/>\n",
              "</g>\n",
              "\n",
              "<g class=\"displacy-arrow\">\n",
              "    <path class=\"displacy-arc\" id=\"arrow-d0fd0257a1394ff19ff672fd1b79b5e1-0-6\" stroke-width=\"2px\" d=\"M1295,264.5 C1295,89.5 1620.0,89.5 1620.0,264.5\" fill=\"none\" stroke=\"currentColor\"/>\n",
              "    <text dy=\"1.25em\" style=\"font-size: 0.8em; letter-spacing: 1px\">\n",
              "        <textPath xlink:href=\"#arrow-d0fd0257a1394ff19ff672fd1b79b5e1-0-6\" class=\"displacy-label\" startOffset=\"50%\" side=\"left\" fill=\"currentColor\" text-anchor=\"middle\">nsubj</textPath>\n",
              "    </text>\n",
              "    <path class=\"displacy-arrowhead\" d=\"M1295,266.5 L1287,254.5 1303,254.5\" fill=\"currentColor\"/>\n",
              "</g>\n",
              "\n",
              "<g class=\"displacy-arrow\">\n",
              "    <path class=\"displacy-arc\" id=\"arrow-d0fd0257a1394ff19ff672fd1b79b5e1-0-7\" stroke-width=\"2px\" d=\"M1470,264.5 C1470,177.0 1615.0,177.0 1615.0,264.5\" fill=\"none\" stroke=\"currentColor\"/>\n",
              "    <text dy=\"1.25em\" style=\"font-size: 0.8em; letter-spacing: 1px\">\n",
              "        <textPath xlink:href=\"#arrow-d0fd0257a1394ff19ff672fd1b79b5e1-0-7\" class=\"displacy-label\" startOffset=\"50%\" side=\"left\" fill=\"currentColor\" text-anchor=\"middle\">aux</textPath>\n",
              "    </text>\n",
              "    <path class=\"displacy-arrowhead\" d=\"M1470,266.5 L1462,254.5 1478,254.5\" fill=\"currentColor\"/>\n",
              "</g>\n",
              "\n",
              "<g class=\"displacy-arrow\">\n",
              "    <path class=\"displacy-arc\" id=\"arrow-d0fd0257a1394ff19ff672fd1b79b5e1-0-8\" stroke-width=\"2px\" d=\"M595,264.5 C595,2.0 1625.0,2.0 1625.0,264.5\" fill=\"none\" stroke=\"currentColor\"/>\n",
              "    <text dy=\"1.25em\" style=\"font-size: 0.8em; letter-spacing: 1px\">\n",
              "        <textPath xlink:href=\"#arrow-d0fd0257a1394ff19ff672fd1b79b5e1-0-8\" class=\"displacy-label\" startOffset=\"50%\" side=\"left\" fill=\"currentColor\" text-anchor=\"middle\">ccomp</textPath>\n",
              "    </text>\n",
              "    <path class=\"displacy-arrowhead\" d=\"M1625.0,266.5 L1633.0,254.5 1617.0,254.5\" fill=\"currentColor\"/>\n",
              "</g>\n",
              "\n",
              "<g class=\"displacy-arrow\">\n",
              "    <path class=\"displacy-arc\" id=\"arrow-d0fd0257a1394ff19ff672fd1b79b5e1-0-9\" stroke-width=\"2px\" d=\"M1820,264.5 C1820,177.0 1965.0,177.0 1965.0,264.5\" fill=\"none\" stroke=\"currentColor\"/>\n",
              "    <text dy=\"1.25em\" style=\"font-size: 0.8em; letter-spacing: 1px\">\n",
              "        <textPath xlink:href=\"#arrow-d0fd0257a1394ff19ff672fd1b79b5e1-0-9\" class=\"displacy-label\" startOffset=\"50%\" side=\"left\" fill=\"currentColor\" text-anchor=\"middle\">det</textPath>\n",
              "    </text>\n",
              "    <path class=\"displacy-arrowhead\" d=\"M1820,266.5 L1812,254.5 1828,254.5\" fill=\"currentColor\"/>\n",
              "</g>\n",
              "\n",
              "<g class=\"displacy-arrow\">\n",
              "    <path class=\"displacy-arc\" id=\"arrow-d0fd0257a1394ff19ff672fd1b79b5e1-0-10\" stroke-width=\"2px\" d=\"M1645,264.5 C1645,89.5 1970.0,89.5 1970.0,264.5\" fill=\"none\" stroke=\"currentColor\"/>\n",
              "    <text dy=\"1.25em\" style=\"font-size: 0.8em; letter-spacing: 1px\">\n",
              "        <textPath xlink:href=\"#arrow-d0fd0257a1394ff19ff672fd1b79b5e1-0-10\" class=\"displacy-label\" startOffset=\"50%\" side=\"left\" fill=\"currentColor\" text-anchor=\"middle\">dobj</textPath>\n",
              "    </text>\n",
              "    <path class=\"displacy-arrowhead\" d=\"M1970.0,266.5 L1978.0,254.5 1962.0,254.5\" fill=\"currentColor\"/>\n",
              "</g>\n",
              "</svg></span>"
            ],
            "text/plain": [
              "<IPython.core.display.HTML object>"
            ]
          },
          "metadata": {},
          "output_type": "display_data"
        }
      ],
      "source": [
        "# Visualize the parts of speech of the first 12 words in our h_berry doc\n",
        "displacy.render(h_berry_doc[:12], style='dep', jupyter=True)"
      ]
    },
    {
      "cell_type": "markdown",
      "metadata": {
        "id": "UV61Go32IrC7"
      },
      "source": [
        "### POS examples with The Adentures of Sherlock Holmes (Optional)\n",
        "\n",
        "This is for practice on POS that we have just done above."
      ]
    },
    {
      "cell_type": "code",
      "execution_count": null,
      "metadata": {
        "id": "_BSZjIiKFP9d"
      },
      "outputs": [],
      "source": [
        "# Get the first 5 sentences of Sherlock Holmes as the corpus\n",
        "\n",
        "# Your code here\n"
      ]
    },
    {
      "cell_type": "code",
      "execution_count": null,
      "metadata": {
        "id": "jGe-AbceH2wA"
      },
      "outputs": [],
      "source": [
        "# Visualize the parts of speech of the first 14 words in our sherlock_holmes doc\n",
        "\n",
        "# Your code here"
      ]
    },
    {
      "cell_type": "markdown",
      "metadata": {
        "id": "HKvgRNdRK_3a"
      },
      "source": [
        "## Named Entity Recognition (NER)\n",
        "NER is information extraction that involves identifying and classifying named entities mentioned in unstructured text into predefined categories such as the names of people, organizations, locations, dates, and other entities\n",
        "In the code cells below, we shall perform NER using sentences from Adventures Huckleberry Finn and The Adventures of Sherlock Holmes"
      ]
    },
    {
      "cell_type": "code",
      "execution_count": null,
      "metadata": {
        "colab": {
          "base_uri": "https://localhost:8080/"
        },
        "id": "Tg0FbatnIVWK",
        "outputId": "08e8ab04-90b6-4e8c-9bcd-5aa93aa632be"
      },
      "outputs": [
        {
          "name": "stdout",
          "output_type": "stream",
          "text": [
            "Tom Sawyer: PERSON\n",
            "Mark Twain: PERSON\n",
            "Aunt: PERSON\n",
            "Mary: PERSON\n"
          ]
        }
      ],
      "source": [
        "# NER tags of the first 5 sentences of Adventures of Huckleberry Finn\n",
        "\n",
        "# Print NER tags for each token and store them in the dictionary\n",
        "for ent in h_berry_doc.ents:\n",
        "  print(f\"{ent.text}: {ent.label_}\")"
      ]
    },
    {
      "cell_type": "code",
      "execution_count": null,
      "metadata": {
        "colab": {
          "base_uri": "https://localhost:8080/",
          "height": 87
        },
        "id": "fUqHhWg4OHq6",
        "outputId": "943b4ba6-4e54-43e2-9be2-63501ef5bf8c"
      },
      "outputs": [
        {
          "data": {
            "text/html": [
              "<span class=\"tex2jax_ignore\"><div class=\"entities\" style=\"line-height: 2.5; direction: ltr\">You don’t know about me without you have read a book by the name of The  Adventures of \n",
              "<mark class=\"entity\" style=\"background: #aa9cfc; padding: 0.45em 0.6em; margin: 0 0.25em; line-height: 1; border-radius: 0.35em;\">\n",
              "    Tom Sawyer\n",
              "    <span style=\"font-size: 0.8em; font-weight: bold; line-height: 1; border-radius: 0.35em; vertical-align: middle; margin-left: 0.5rem\">PERSON</span>\n",
              "</mark>\n",
              "; but that ain’t no matter. That book was made  by Mr. \n",
              "<mark class=\"entity\" style=\"background: #aa9cfc; padding: 0.45em 0.6em; margin: 0 0.25em; line-height: 1; border-radius: 0.35em;\">\n",
              "    Mark Twain\n",
              "    <span style=\"font-size: 0.8em; font-weight: bold; line-height: 1; border-radius: 0.35em; vertical-align: middle; margin-left: 0.5rem\">PERSON</span>\n",
              "</mark>\n",
              ", and he told the truth, mainly. There was things  which he stretched, but mainly he told the truth. That is nothing. I  never seen anybody but lied one time or another, without it was \n",
              "<mark class=\"entity\" style=\"background: #aa9cfc; padding: 0.45em 0.6em; margin: 0 0.25em; line-height: 1; border-radius: 0.35em;\">\n",
              "    Aunt\n",
              "    <span style=\"font-size: 0.8em; font-weight: bold; line-height: 1; border-radius: 0.35em; vertical-align: middle; margin-left: 0.5rem\">PERSON</span>\n",
              "</mark>\n",
              "  Polly, or the widow, or maybe \n",
              "<mark class=\"entity\" style=\"background: #aa9cfc; padding: 0.45em 0.6em; margin: 0 0.25em; line-height: 1; border-radius: 0.35em;\">\n",
              "    Mary\n",
              "    <span style=\"font-size: 0.8em; font-weight: bold; line-height: 1; border-radius: 0.35em; vertical-align: middle; margin-left: 0.5rem\">PERSON</span>\n",
              "</mark>\n",
              ".</div></span>"
            ],
            "text/plain": [
              "<IPython.core.display.HTML object>"
            ]
          },
          "metadata": {},
          "output_type": "display_data"
        }
      ],
      "source": [
        "# Visualize the entities of Adventures of Huckleberry Finn\n",
        "displacy.render(h_berry_doc, style='ent', jupyter=True)"
      ]
    },
    {
      "cell_type": "code",
      "execution_count": null,
      "metadata": {
        "id": "TUJkPOs-OPp0"
      },
      "outputs": [],
      "source": [
        "# Get the NER tags of the first 5 sentences of The Adventures of Sherlock Holmes\n",
        "\n",
        "s_holmes_ner_tags = {}\n",
        "\n",
        "# Your code here"
      ]
    },
    {
      "cell_type": "code",
      "execution_count": null,
      "metadata": {
        "id": "E1wYAXttOsQP"
      },
      "outputs": [],
      "source": [
        "# Visualize the entities of The Adventures of Sherlock Holmes\n",
        "\n",
        "# Your code here"
      ]
    }
  ],
  "metadata": {
    "colab": {
      "provenance": [],
      "include_colab_link": true
    },
    "kernelspec": {
      "display_name": "Python 3",
      "name": "python3"
    },
    "language_info": {
      "codemirror_mode": {
        "name": "ipython",
        "version": 3
      },
      "file_extension": ".py",
      "mimetype": "text/x-python",
      "name": "python",
      "nbconvert_exporter": "python",
      "pygments_lexer": "ipython3",
      "version": "3.10.4"
    }
  },
  "nbformat": 4,
  "nbformat_minor": 0
}